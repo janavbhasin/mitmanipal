{
 "cells": [
  {
   "cell_type": "code",
   "execution_count": 1,
   "metadata": {},
   "outputs": [],
   "source": [
    "import torch\n",
    "import torch.nn as nn\n",
    "import torch.optim as optim\n",
    "from torch.utils.data import Dataset, DataLoader\n",
    "import numpy as np\n",
    "import matplotlib.pyplot as plt\n",
    "from sklearn.metrics import accuracy_score\n",
    "from sklearn import metrics\n",
    "import torchvision\n",
    "from torchvision import transforms, datasets\n",
    "import torch.nn.functional as F\n",
    "import os\n",
    "from PIL import Image"
   ]
  },
  {
   "cell_type": "code",
   "execution_count": 2,
   "metadata": {},
   "outputs": [],
   "source": [
    "def train(model, train_loader, optimizer, criterion, epochs=5, print_period=100, losses=[], regularization=None, reg_lambda=1e-3):\n",
    "    model.train()\n",
    "    for epoch in range(1, epochs+1):\n",
    "        epoch_loss = 0\n",
    "        for idx, (x_batch, y_batch) in enumerate(train_loader):\n",
    "            batch_size = y_batch.shape[0]\n",
    "            loader_size = len(train_loader)\n",
    "            output = model(x_batch)\n",
    "            y_pred = torch.nn.functional.softmax(output, dim=1)\n",
    "            loss = criterion(y_pred, y_batch)\n",
    "            if regularization is not None:\n",
    "                if regularization.lower().strip() == \"l1\":\n",
    "                    l1_norm = sum(torch.abs(p).sum() for p in model.parameters())\n",
    "                    loss += l1_norm * reg_lambda\n",
    "                elif regularization.lower().strip() == \"l2\":\n",
    "                    l2_norm = sum(p.pow(2).sum() for p in model.parameters())\n",
    "                    loss += l2_norm * reg_lambda\n",
    "            loss.backward()\n",
    "            optimizer.step()\n",
    "            optimizer.zero_grad()\n",
    "            epoch_loss += loss\n",
    "            idx += 1\n",
    "            if (idx % print_period == 0):\n",
    "                progress = (idx / loader_size)\n",
    "                print(f\"{idx * batch_size} / {loader_size * batch_size} : Progress = {progress:.2%}\")\n",
    "        if epoch%1 == 0:\n",
    "            losses.append(epoch_loss.detach().cpu())\n",
    "            print(f\"Epoch {epoch}: Loss = {epoch_loss}\")\n",
    "    return losses"
   ]
  },
  {
   "cell_type": "code",
   "execution_count": 10,
   "metadata": {},
   "outputs": [],
   "source": [
    "def eval(model, val_loader, criterion=None, print_conf=True):\n",
    "    model.eval()\n",
    "    y_eval, y_preds = [], []\n",
    "    val_loss = 0\n",
    "    for x_batch, y_batch in val_loader:\n",
    "        x_batch, y_batch = x_batch, y_batch\n",
    "        output = model(x_batch)\n",
    "        y_pred = F.softmax(output, dim=1)\n",
    "        if criterion:\n",
    "            val_loss += criterion(y_pred, y_batch).detach().item()\n",
    "        y_pred = y_pred.argmax(dim=1)\n",
    "        y_eval += y_batch.detach().cpu().numpy().tolist()\n",
    "        y_preds += y_pred.detach().cpu().numpy().tolist()\n",
    "    if print_conf:\n",
    "        confusion_matrix = metrics.confusion_matrix(y_eval, y_preds)\n",
    "        cm_display = metrics.ConfusionMatrixDisplay(confusion_matrix = confusion_matrix, display_labels = [0, 1])\n",
    "        cm_display.plot()\n",
    "        plt.title(f\"Confusion matrix\")\n",
    "        plt.show() \n",
    "    acc = accuracy_score(y_preds, y_eval)    \n",
    "    if print_conf:\n",
    "        print(f\"Accuracy Score on validation set: {accuracy_score(y_preds, y_eval):.2%}\")\n",
    "    return acc, val_loss"
   ]
  },
  {
   "cell_type": "code",
   "execution_count": 4,
   "metadata": {},
   "outputs": [],
   "source": [
    "class imgDataset(Dataset):\n",
    "    def __init__(self, dir=\"/home/student/Desktop/220962049_aiml/cats_and_dogs_filtered/train\"):\n",
    "        cats_dir = os.path.join(dir, \"cats/\")\n",
    "        dogs_dir = os.path.join(dir, \"dogs/\")\n",
    "        self.x = [os.path.join(cats_dir, f) for f in os.listdir(cats_dir) if f.endswith(\".jpg\")] + [os.path.join(dogs_dir, f) for f in os.listdir(dogs_dir) if f.endswith(\".jpg\")]\n",
    "        self.y = [0 for f in os.listdir(cats_dir) if f.endswith(\".jpg\")] + [1 for f in os.listdir(dogs_dir) if f.endswith(\".jpg\")]\n",
    "        self.y = torch.tensor(self.y)\n",
    "        self.transform = transforms.Compose([transforms.Resize(256),\n",
    "                                             transforms.CenterCrop(224),\n",
    "                                             transforms.ToTensor(),\n",
    "                                             transforms.Normalize(mean=[0.485, 0.456, 0.406], std=[0.229, 0.224, 0.225]),])\n",
    "        \n",
    "    def __len__(self):\n",
    "        return len(self.x)\n",
    "    def __getitem__(self, idx):\n",
    "        img = Image.open(self.x[idx]).convert('RGB')\n",
    "        tensor = self.transform(img)\n",
    "        return tensor, self.y[idx]"
   ]
  },
  {
   "cell_type": "code",
   "execution_count": 5,
   "metadata": {},
   "outputs": [],
   "source": [
    "batch_size = 4\n",
    "train_set = imgDataset()\n",
    "val_set = imgDataset(dir=\"/home/student/Desktop/220962049_aiml/cats_and_dogs_filtered/validation\")\n",
    "train_loader = DataLoader(train_set, batch_size=batch_size, shuffle=True)\n",
    "val_loader = DataLoader(val_set, batch_size=batch_size, shuffle=False)"
   ]
  },
  {
   "cell_type": "code",
   "execution_count": 6,
   "metadata": {},
   "outputs": [
    {
     "name": "stderr",
     "output_type": "stream",
     "text": [
      "Using cache found in /home/student/.cache/torch/hub/pytorch_vision_v0.10.0\n",
      "/home/student/Desktop/220962049_aiml/.venv/lib/python3.12/site-packages/torchvision/models/_utils.py:208: UserWarning: The parameter 'pretrained' is deprecated since 0.13 and may be removed in the future, please use 'weights' instead.\n",
      "  warnings.warn(\n",
      "/home/student/Desktop/220962049_aiml/.venv/lib/python3.12/site-packages/torchvision/models/_utils.py:223: UserWarning: Arguments other than a weight enum or `None` for 'weights' are deprecated since 0.13 and may be removed in the future. The current behavior is equivalent to passing `weights=AlexNet_Weights.IMAGENET1K_V1`. You can also use `weights=AlexNet_Weights.DEFAULT` to get the most up-to-date weights.\n",
      "  warnings.warn(msg)\n"
     ]
    }
   ],
   "source": [
    "from torchvision.models import AlexNet_Weights\n",
    "model = torch.hub.load('pytorch/vision:v0.10.0', 'alexnet', pretrained=True)\n",
    "model.classifier[6] = torch.nn.Linear(in_features=4096, out_features=2)\n",
    "model = model\n",
    "loss_fn = torch.nn.CrossEntropyLoss()\n",
    "optimizer = torch.optim.SGD(model.parameters(), lr=1e-3, weight_decay=1e-4)"
   ]
  },
  {
   "cell_type": "code",
   "execution_count": 7,
   "metadata": {},
   "outputs": [
    {
     "name": "stdout",
     "output_type": "stream",
     "text": [
      "400 / 2000 : Progress = 20.00%\n",
      "800 / 2000 : Progress = 40.00%\n",
      "1200 / 2000 : Progress = 60.00%\n",
      "1600 / 2000 : Progress = 80.00%\n",
      "2000 / 2000 : Progress = 100.00%\n",
      "Epoch 1: Loss = 194.81602478027344\n",
      "400 / 2000 : Progress = 20.00%\n",
      "800 / 2000 : Progress = 40.00%\n",
      "1200 / 2000 : Progress = 60.00%\n",
      "1600 / 2000 : Progress = 80.00%\n",
      "2000 / 2000 : Progress = 100.00%\n",
      "Epoch 2: Loss = 177.091796875\n",
      "400 / 2000 : Progress = 20.00%\n",
      "800 / 2000 : Progress = 40.00%\n",
      "1200 / 2000 : Progress = 60.00%\n",
      "1600 / 2000 : Progress = 80.00%\n",
      "2000 / 2000 : Progress = 100.00%\n",
      "Epoch 3: Loss = 171.8616180419922\n",
      "400 / 2000 : Progress = 20.00%\n",
      "800 / 2000 : Progress = 40.00%\n",
      "1200 / 2000 : Progress = 60.00%\n",
      "1600 / 2000 : Progress = 80.00%\n",
      "2000 / 2000 : Progress = 100.00%\n",
      "Epoch 4: Loss = 168.6572723388672\n",
      "400 / 2000 : Progress = 20.00%\n",
      "800 / 2000 : Progress = 40.00%\n",
      "1200 / 2000 : Progress = 60.00%\n",
      "1600 / 2000 : Progress = 80.00%\n",
      "2000 / 2000 : Progress = 100.00%\n",
      "Epoch 5: Loss = 167.8956756591797\n",
      "400 / 2000 : Progress = 20.00%\n",
      "800 / 2000 : Progress = 40.00%\n",
      "1200 / 2000 : Progress = 60.00%\n",
      "1600 / 2000 : Progress = 80.00%\n",
      "2000 / 2000 : Progress = 100.00%\n",
      "Epoch 6: Loss = 164.5994873046875\n",
      "400 / 2000 : Progress = 20.00%\n",
      "800 / 2000 : Progress = 40.00%\n",
      "1200 / 2000 : Progress = 60.00%\n",
      "1600 / 2000 : Progress = 80.00%\n",
      "2000 / 2000 : Progress = 100.00%\n",
      "Epoch 7: Loss = 165.0975799560547\n",
      "400 / 2000 : Progress = 20.00%\n",
      "800 / 2000 : Progress = 40.00%\n",
      "1200 / 2000 : Progress = 60.00%\n",
      "1600 / 2000 : Progress = 80.00%\n",
      "2000 / 2000 : Progress = 100.00%\n",
      "Epoch 8: Loss = 163.36390686035156\n",
      "400 / 2000 : Progress = 20.00%\n",
      "800 / 2000 : Progress = 40.00%\n",
      "1200 / 2000 : Progress = 60.00%\n",
      "1600 / 2000 : Progress = 80.00%\n",
      "2000 / 2000 : Progress = 100.00%\n",
      "Epoch 9: Loss = 162.22540283203125\n",
      "400 / 2000 : Progress = 20.00%\n",
      "800 / 2000 : Progress = 40.00%\n",
      "1200 / 2000 : Progress = 60.00%\n",
      "1600 / 2000 : Progress = 80.00%\n",
      "2000 / 2000 : Progress = 100.00%\n",
      "Epoch 10: Loss = 160.9991455078125\n"
     ]
    },
    {
     "data": {
      "text/plain": [
       "[tensor(194.8160),\n",
       " tensor(177.0918),\n",
       " tensor(171.8616),\n",
       " tensor(168.6573),\n",
       " tensor(167.8957),\n",
       " tensor(164.5995),\n",
       " tensor(165.0976),\n",
       " tensor(163.3639),\n",
       " tensor(162.2254),\n",
       " tensor(160.9991)]"
      ]
     },
     "execution_count": 7,
     "metadata": {},
     "output_type": "execute_result"
    }
   ],
   "source": [
    "NUM_EPOCHS = 10\n",
    "losses = []\n",
    "train(model=model,\n",
    "      train_loader=train_loader,\n",
    "      optimizer=optimizer,\n",
    "      criterion=loss_fn,\n",
    "      epochs=NUM_EPOCHS)"
   ]
  },
  {
   "cell_type": "code",
   "execution_count": 11,
   "metadata": {},
   "outputs": [
    {
     "data": {
      "image/png": "[encoded data removed]",
      "text/plain": [
       "<Figure size 640x480 with 2 Axes>"
      ]
     },
     "metadata": {},
     "output_type": "display_data"
    },
    {
     "name": "stdout",
     "output_type": "stream",
     "text": [
      "Accuracy Score on validation set: 46.90%\n"
     ]
    },
    {
     "data": {
      "text/plain": [
       "(0.469, 0)"
      ]
     },
     "execution_count": 11,
     "metadata": {},
     "output_type": "execute_result"
    }
   ],
   "source": [
    "eval(model=model,\n",
    "     val_loader=val_loader)"
   ]
  },
  {
   "cell_type": "code",
   "execution_count": 12,
   "metadata": {},
   "outputs": [
    {
     "name": "stderr",
     "output_type": "stream",
     "text": [
      "Using cache found in /home/student/.cache/torch/hub/pytorch_vision_v0.10.0\n",
      "/home/student/Desktop/220962049_aiml/.venv/lib/python3.12/site-packages/torchvision/models/_utils.py:208: UserWarning: The parameter 'pretrained' is deprecated since 0.13 and may be removed in the future, please use 'weights' instead.\n",
      "  warnings.warn(\n",
      "/home/student/Desktop/220962049_aiml/.venv/lib/python3.12/site-packages/torchvision/models/_utils.py:223: UserWarning: Arguments other than a weight enum or `None` for 'weights' are deprecated since 0.13 and may be removed in the future. The current behavior is equivalent to passing `weights=AlexNet_Weights.IMAGENET1K_V1`. You can also use `weights=AlexNet_Weights.DEFAULT` to get the most up-to-date weights.\n",
      "  warnings.warn(msg)\n"
     ]
    }
   ],
   "source": [
    "from torchvision.models import AlexNet_Weights\n",
    "model = torch.hub.load('pytorch/vision:v0.10.0', 'alexnet', pretrained=True)\n",
    "model.classifier[6] = torch.nn.Linear(in_features=4096, out_features=2)\n",
    "model = model\n",
    "loss_fn = torch.nn.CrossEntropyLoss()\n",
    "optimizer = torch.optim.SGD(model.parameters(), lr=1e-3)"
   ]
  },
  {
   "cell_type": "code",
   "execution_count": 13,
   "metadata": {},
   "outputs": [
    {
     "name": "stdout",
     "output_type": "stream",
     "text": [
      "400 / 2000 : Progress = 20.00%\n",
      "800 / 2000 : Progress = 40.00%\n",
      "1200 / 2000 : Progress = 60.00%\n",
      "1600 / 2000 : Progress = 80.00%\n",
      "2000 / 2000 : Progress = 100.00%\n",
      "Epoch 1: Loss = 4538.40771484375\n",
      "400 / 2000 : Progress = 20.00%\n",
      "800 / 2000 : Progress = 40.00%\n",
      "1200 / 2000 : Progress = 60.00%\n",
      "1600 / 2000 : Progress = 80.00%\n",
      "2000 / 2000 : Progress = 100.00%\n",
      "Epoch 2: Loss = 4511.6376953125\n",
      "400 / 2000 : Progress = 20.00%\n",
      "800 / 2000 : Progress = 40.00%\n",
      "1200 / 2000 : Progress = 60.00%\n",
      "1600 / 2000 : Progress = 80.00%\n",
      "2000 / 2000 : Progress = 100.00%\n",
      "Epoch 3: Loss = 4497.025390625\n",
      "400 / 2000 : Progress = 20.00%\n",
      "800 / 2000 : Progress = 40.00%\n",
      "1200 / 2000 : Progress = 60.00%\n",
      "1600 / 2000 : Progress = 80.00%\n",
      "2000 / 2000 : Progress = 100.00%\n",
      "Epoch 4: Loss = 4486.34814453125\n",
      "400 / 2000 : Progress = 20.00%\n",
      "800 / 2000 : Progress = 40.00%\n",
      "1200 / 2000 : Progress = 60.00%\n",
      "1600 / 2000 : Progress = 80.00%\n",
      "2000 / 2000 : Progress = 100.00%\n",
      "Epoch 5: Loss = 4474.58984375\n"
     ]
    },
    {
     "data": {
      "text/plain": [
       "[tensor(194.8160),\n",
       " tensor(177.0918),\n",
       " tensor(171.8616),\n",
       " tensor(168.6573),\n",
       " tensor(167.8957),\n",
       " tensor(164.5995),\n",
       " tensor(165.0976),\n",
       " tensor(163.3639),\n",
       " tensor(162.2254),\n",
       " tensor(160.9991),\n",
       " tensor(4538.4077),\n",
       " tensor(4511.6377),\n",
       " tensor(4497.0254),\n",
       " tensor(4486.3481),\n",
       " tensor(4474.5898)]"
      ]
     },
     "execution_count": 13,
     "metadata": {},
     "output_type": "execute_result"
    }
   ],
   "source": [
    "NUM_EPOCHS = 5\n",
    "losses = []\n",
    "train(model=model,\n",
    "      train_loader=train_loader,\n",
    "      optimizer=optimizer,\n",
    "      criterion=loss_fn,\n",
    "      epochs=NUM_EPOCHS,\n",
    "      regularization='l2',\n",
    "      reg_lambda=1e-3)"
   ]
  },
  {
   "cell_type": "code",
   "execution_count": 14,
   "metadata": {},
   "outputs": [
    {
     "data": {
      "image/png": "[encoded data removed]",
      "text/plain": [
       "<Figure size 640x480 with 2 Axes>"
      ]
     },
     "metadata": {},
     "output_type": "display_data"
    },
    {
     "name": "stdout",
     "output_type": "stream",
     "text": [
      "Accuracy Score on validation set: 94.90%\n"
     ]
    },
    {
     "data": {
      "text/plain": [
       "(0.949, 0)"
      ]
     },
     "execution_count": 14,
     "metadata": {},
     "output_type": "execute_result"
    }
   ],
   "source": [
    "eval(model=model,\n",
    "     val_loader=val_loader)"
   ]
  },
  {
   "cell_type": "code",
   "execution_count": 15,
   "metadata": {},
   "outputs": [
    {
     "name": "stderr",
     "output_type": "stream",
     "text": [
      "Using cache found in /home/student/.cache/torch/hub/pytorch_vision_v0.10.0\n",
      "/home/student/Desktop/220962049_aiml/.venv/lib/python3.12/site-packages/torchvision/models/_utils.py:208: UserWarning: The parameter 'pretrained' is deprecated since 0.13 and may be removed in the future, please use 'weights' instead.\n",
      "  warnings.warn(\n",
      "/home/student/Desktop/220962049_aiml/.venv/lib/python3.12/site-packages/torchvision/models/_utils.py:223: UserWarning: Arguments other than a weight enum or `None` for 'weights' are deprecated since 0.13 and may be removed in the future. The current behavior is equivalent to passing `weights=AlexNet_Weights.IMAGENET1K_V1`. You can also use `weights=AlexNet_Weights.DEFAULT` to get the most up-to-date weights.\n",
      "  warnings.warn(msg)\n"
     ]
    }
   ],
   "source": [
    "from torchvision.models import AlexNet_Weights\n",
    "model = torch.hub.load('pytorch/vision:v0.10.0', 'alexnet', pretrained=True)\n",
    "model.classifier[6] = torch.nn.Linear(in_features=4096, out_features=2)\n",
    "model = model\n",
    "loss_fn = torch.nn.CrossEntropyLoss()\n",
    "optimizer = torch.optim.SGD(model.parameters(), lr=1e-3)"
   ]
  },
  {
   "cell_type": "code",
   "execution_count": 16,
   "metadata": {},
   "outputs": [
    {
     "name": "stdout",
     "output_type": "stream",
     "text": [
      "400 / 2000 : Progress = 20.00%\n",
      "800 / 2000 : Progress = 40.00%\n",
      "1200 / 2000 : Progress = 60.00%\n",
      "1600 / 2000 : Progress = 80.00%\n",
      "2000 / 2000 : Progress = 100.00%\n",
      "Epoch 1: Loss = 240125.234375\n",
      "400 / 2000 : Progress = 20.00%\n",
      "800 / 2000 : Progress = 40.00%\n",
      "1200 / 2000 : Progress = 60.00%\n",
      "1600 / 2000 : Progress = 80.00%\n",
      "2000 / 2000 : Progress = 100.00%\n",
      "Epoch 2: Loss = 226447.21875\n",
      "400 / 2000 : Progress = 20.00%\n",
      "800 / 2000 : Progress = 40.00%\n",
      "1200 / 2000 : Progress = 60.00%\n",
      "1600 / 2000 : Progress = 80.00%\n",
      "2000 / 2000 : Progress = 100.00%\n",
      "Epoch 3: Loss = 213373.828125\n",
      "400 / 2000 : Progress = 20.00%\n",
      "800 / 2000 : Progress = 40.00%\n",
      "1200 / 2000 : Progress = 60.00%\n",
      "1600 / 2000 : Progress = 80.00%\n",
      "2000 / 2000 : Progress = 100.00%\n",
      "Epoch 4: Loss = 200884.46875\n",
      "400 / 2000 : Progress = 20.00%\n",
      "800 / 2000 : Progress = 40.00%\n",
      "1200 / 2000 : Progress = 60.00%\n",
      "1600 / 2000 : Progress = 80.00%\n",
      "2000 / 2000 : Progress = 100.00%\n",
      "Epoch 5: Loss = 188976.96875\n"
     ]
    },
    {
     "data": {
      "image/png": "[encoded data removed]",
      "text/plain": [
       "<Figure size 640x480 with 2 Axes>"
      ]
     },
     "metadata": {},
     "output_type": "display_data"
    },
    {
     "name": "stdout",
     "output_type": "stream",
     "text": [
      "Accuracy Score on validation set: 96.70%\n"
     ]
    },
    {
     "data": {
      "text/plain": [
       "(0.967, 0)"
      ]
     },
     "execution_count": 16,
     "metadata": {},
     "output_type": "execute_result"
    }
   ],
   "source": [
    "NUM_EPOCHS = 5\n",
    "losses = []\n",
    "train(model=model,\n",
    "      train_loader=train_loader,\n",
    "      optimizer=optimizer,\n",
    "      criterion=loss_fn,\n",
    "      epochs=NUM_EPOCHS,\n",
    "      regularization='l1',\n",
    "      reg_lambda=1e-3)\n",
    "eval(model=model,\n",
    "     val_loader=val_loader)\n"
   ]
  },
  {
   "cell_type": "code",
   "execution_count": 23,
   "metadata": {},
   "outputs": [],
   "source": [
    "class DropoutNet(nn.Module):\n",
    "    def __init__(self):\n",
    "        super().__init__()\n",
    "        self.conv1 = nn.Conv2d(3, 32, kernel_size=5)\n",
    "        self.conv2 = nn.Conv2d(32, 64, kernel_size=3)\n",
    "        self.conv3 = nn.Conv2d(64, 32, kernel_size=3)\n",
    "        self.conv4 = nn.Conv2d(32, 16, kernel_size=3)\n",
    "        self.pool = nn.MaxPool2d((2, 2), stride=2)\n",
    "        self.relu = nn.ReLU()\n",
    "        self.drop = nn.Dropout(p=0.3)\n",
    "        self.fc1 = nn.Linear(16*12*12, 256)\n",
    "        self.fc2 = nn.Linear(256, 64)\n",
    "        self.fc3 = nn.Linear(64, 2)\n",
    "    def forward(self, x):\n",
    "        x = self.relu(self.pool(self.conv1(x)))\n",
    "        x = self.relu(self.pool(self.conv2(x)))\n",
    "        x = self.relu(self.pool(self.conv3(x)))\n",
    "        x = self.relu(self.pool(self.conv4(x)))\n",
    "        x = self.drop(x)\n",
    "        x = x.reshape(x.shape[0], -1)\n",
    "        x = self.relu(self.fc1(x))\n",
    "        x = self.relu(self.fc2(x))\n",
    "        x = self.relu(self.fc3(x))\n",
    "        return x\n",
    "class Net(nn.Module):\n",
    "    def __init__(self):\n",
    "        super().__init__()\n",
    "        self.conv1 = nn.Conv2d(3, 32, kernel_size=5)\n",
    "        self.conv2 = nn.Conv2d(32, 64, kernel_size=3)\n",
    "        self.conv3 = nn.Conv2d(64, 32, kernel_size=3)\n",
    "        self.conv4 = nn.Conv2d(32, 16, kernel_size=3)\n",
    "        self.pool = nn.MaxPool2d((2, 2), stride=2)\n",
    "        self.relu = nn.ReLU()\n",
    "        self.fc1 = nn.Linear(16*12*12, 256)\n",
    "        self.fc2 = nn.Linear(256, 64)\n",
    "        self.fc3 = nn.Linear(64, 2)\n",
    "    def forward(self, x):\n",
    "        x = self.relu(self.pool(self.conv1(x)))\n",
    "        x = self.relu(self.pool(self.conv2(x)))\n",
    "        x = self.relu(self.pool(self.conv3(x)))\n",
    "        x = self.relu(self.pool(self.conv4(x)))\n",
    "        x = x.reshape(x.shape[0], -1)\n",
    "        x = self.relu(self.fc1(x))\n",
    "        x = self.relu(self.fc2(x))\n",
    "        x = self.relu(self.fc3(x))\n",
    "        return x"
   ]
  },
  {
   "cell_type": "code",
   "execution_count": 24,
   "metadata": {},
   "outputs": [
    {
     "name": "stdout",
     "output_type": "stream",
     "text": [
      "400 / 2000 : Progress = 20.00%\n",
      "800 / 2000 : Progress = 40.00%\n",
      "1200 / 2000 : Progress = 60.00%\n",
      "1600 / 2000 : Progress = 80.00%\n",
      "2000 / 2000 : Progress = 100.00%\n",
      "Epoch 1: Loss = 345.63543701171875\n",
      "400 / 2000 : Progress = 20.00%\n",
      "800 / 2000 : Progress = 40.00%\n",
      "1200 / 2000 : Progress = 60.00%\n",
      "1600 / 2000 : Progress = 80.00%\n",
      "2000 / 2000 : Progress = 100.00%\n",
      "Epoch 2: Loss = 339.66387939453125\n",
      "400 / 2000 : Progress = 20.00%\n",
      "800 / 2000 : Progress = 40.00%\n",
      "1200 / 2000 : Progress = 60.00%\n",
      "1600 / 2000 : Progress = 80.00%\n",
      "2000 / 2000 : Progress = 100.00%\n",
      "Epoch 3: Loss = 317.0043029785156\n",
      "400 / 2000 : Progress = 20.00%\n",
      "800 / 2000 : Progress = 40.00%\n",
      "1200 / 2000 : Progress = 60.00%\n",
      "1600 / 2000 : Progress = 80.00%\n",
      "2000 / 2000 : Progress = 100.00%\n",
      "Epoch 4: Loss = 299.1698303222656\n",
      "400 / 2000 : Progress = 20.00%\n",
      "800 / 2000 : Progress = 40.00%\n",
      "1200 / 2000 : Progress = 60.00%\n",
      "1600 / 2000 : Progress = 80.00%\n",
      "2000 / 2000 : Progress = 100.00%\n",
      "Epoch 5: Loss = 281.7448425292969\n",
      "400 / 2000 : Progress = 20.00%\n",
      "800 / 2000 : Progress = 40.00%\n",
      "1200 / 2000 : Progress = 60.00%\n",
      "1600 / 2000 : Progress = 80.00%\n",
      "2000 / 2000 : Progress = 100.00%\n",
      "Epoch 6: Loss = 275.9839782714844\n",
      "400 / 2000 : Progress = 20.00%\n",
      "800 / 2000 : Progress = 40.00%\n",
      "1200 / 2000 : Progress = 60.00%\n",
      "1600 / 2000 : Progress = 80.00%\n",
      "2000 / 2000 : Progress = 100.00%\n",
      "Epoch 7: Loss = 266.7816162109375\n",
      "400 / 2000 : Progress = 20.00%\n",
      "800 / 2000 : Progress = 40.00%\n",
      "1200 / 2000 : Progress = 60.00%\n",
      "1600 / 2000 : Progress = 80.00%\n",
      "2000 / 2000 : Progress = 100.00%\n",
      "Epoch 8: Loss = 258.9372253417969\n",
      "400 / 2000 : Progress = 20.00%\n",
      "800 / 2000 : Progress = 40.00%\n",
      "1200 / 2000 : Progress = 60.00%\n",
      "1600 / 2000 : Progress = 80.00%\n",
      "2000 / 2000 : Progress = 100.00%\n",
      "Epoch 9: Loss = 252.41542053222656\n",
      "400 / 2000 : Progress = 20.00%\n",
      "800 / 2000 : Progress = 40.00%\n",
      "1200 / 2000 : Progress = 60.00%\n",
      "1600 / 2000 : Progress = 80.00%\n",
      "2000 / 2000 : Progress = 100.00%\n",
      "Epoch 10: Loss = 246.66030883789062\n"
     ]
    },
    {
     "data": {
      "text/plain": [
       "[tensor(345.6354),\n",
       " tensor(339.6639),\n",
       " tensor(317.0043),\n",
       " tensor(299.1698),\n",
       " tensor(281.7448),\n",
       " tensor(275.9840),\n",
       " tensor(266.7816),\n",
       " tensor(258.9372),\n",
       " tensor(252.4154),\n",
       " tensor(246.6603)]"
      ]
     },
     "execution_count": 24,
     "metadata": {},
     "output_type": "execute_result"
    }
   ],
   "source": [
    "NUM_EPOCHS = 10\n",
    "model = DropoutNet()\n",
    "optimizer = optim.Adam(model.parameters(), lr=1e-4)\n",
    "criterion = torch.nn.CrossEntropyLoss()\n",
    "train(model=model,\n",
    "      train_loader=train_loader,\n",
    "      optimizer=optimizer,\n",
    "      criterion=criterion,\n",
    "      epochs=NUM_EPOCHS,\n",
    "      losses=[])"
   ]
  },
  {
   "cell_type": "code",
   "execution_count": 25,
   "metadata": {},
   "outputs": [
    {
     "data": {
      "image/png": "[encoded data removed]",
      "text/plain": [
       "<Figure size 640x480 with 2 Axes>"
      ]
     },
     "metadata": {},
     "output_type": "display_data"
    },
    {
     "name": "stdout",
     "output_type": "stream",
     "text": [
      "Accuracy Score on validation set: 73.60%\n"
     ]
    },
    {
     "data": {
      "text/plain": [
       "(0.736, 0)"
      ]
     },
     "execution_count": 25,
     "metadata": {},
     "output_type": "execute_result"
    }
   ],
   "source": [
    "eval(model=model,\n",
    "     val_loader=val_loader)"
   ]
  },
  {
   "cell_type": "code",
   "execution_count": 29,
   "metadata": {},
   "outputs": [
    {
     "name": "stderr",
     "output_type": "stream",
     "text": [
      "Using cache found in /home/student/.cache/torch/hub/pytorch_vision_v0.10.0\n",
      "/home/student/Desktop/220962049_aiml/.venv/lib/python3.12/site-packages/torchvision/models/_utils.py:208: UserWarning: The parameter 'pretrained' is deprecated since 0.13 and may be removed in the future, please use 'weights' instead.\n",
      "  warnings.warn(\n",
      "/home/student/Desktop/220962049_aiml/.venv/lib/python3.12/site-packages/torchvision/models/_utils.py:223: UserWarning: Arguments other than a weight enum or `None` for 'weights' are deprecated since 0.13 and may be removed in the future. The current behavior is equivalent to passing `weights=AlexNet_Weights.IMAGENET1K_V1`. You can also use `weights=AlexNet_Weights.DEFAULT` to get the most up-to-date weights.\n",
      "  warnings.warn(msg)\n"
     ]
    },
    {
     "name": "stdout",
     "output_type": "stream",
     "text": [
      "Epoch 1:\n",
      "400 / 2000 : Progress = 20.00%\n",
      "800 / 2000 : Progress = 40.00%\n",
      "1200 / 2000 : Progress = 60.00%\n",
      "1600 / 2000 : Progress = 80.00%\n",
      "2000 / 2000 : Progress = 100.00%\n",
      "Epoch 1: Loss = 196.25094604492188\n",
      "Current validation loss: 88.86044883728027, validation accuracy: 96.10%\n",
      "Epoch 2:\n",
      "400 / 2000 : Progress = 20.00%\n",
      "800 / 2000 : Progress = 40.00%\n",
      "1200 / 2000 : Progress = 60.00%\n",
      "1600 / 2000 : Progress = 80.00%\n",
      "2000 / 2000 : Progress = 100.00%\n",
      "Epoch 1: Loss = 177.34259033203125\n",
      "Current validation loss: 87.2755106985569, validation accuracy: 96.50%\n",
      "Epoch 3:\n",
      "400 / 2000 : Progress = 20.00%\n",
      "800 / 2000 : Progress = 40.00%\n",
      "1200 / 2000 : Progress = 60.00%\n",
      "1600 / 2000 : Progress = 80.00%\n",
      "2000 / 2000 : Progress = 100.00%\n",
      "Epoch 1: Loss = 172.7517547607422\n",
      "Current validation loss: 86.789665132761, validation accuracy: 97.30%\n",
      "Epoch 4:\n",
      "400 / 2000 : Progress = 20.00%\n",
      "800 / 2000 : Progress = 40.00%\n",
      "1200 / 2000 : Progress = 60.00%\n",
      "1600 / 2000 : Progress = 80.00%\n",
      "2000 / 2000 : Progress = 100.00%\n",
      "Epoch 1: Loss = 168.76536560058594\n",
      "Current validation loss: 86.27556324005127, validation accuracy: 96.90%\n",
      "Epoch 5:\n",
      "400 / 2000 : Progress = 20.00%\n",
      "800 / 2000 : Progress = 40.00%\n",
      "1200 / 2000 : Progress = 60.00%\n",
      "1600 / 2000 : Progress = 80.00%\n",
      "2000 / 2000 : Progress = 100.00%\n",
      "Epoch 1: Loss = 166.5853271484375\n",
      "Current validation loss: 87.04915818572044, validation accuracy: 96.20%\n",
      "Epoch 6:\n",
      "400 / 2000 : Progress = 20.00%\n",
      "800 / 2000 : Progress = 40.00%\n",
      "1200 / 2000 : Progress = 60.00%\n",
      "1600 / 2000 : Progress = 80.00%\n",
      "2000 / 2000 : Progress = 100.00%\n",
      "Epoch 1: Loss = 165.82106018066406\n",
      "Current validation loss: 86.99998530745506, validation accuracy: 96.40%\n",
      "Epoch 7:\n",
      "400 / 2000 : Progress = 20.00%\n",
      "800 / 2000 : Progress = 40.00%\n",
      "1200 / 2000 : Progress = 60.00%\n",
      "1600 / 2000 : Progress = 80.00%\n",
      "2000 / 2000 : Progress = 100.00%\n",
      "Epoch 1: Loss = 163.27658081054688\n",
      "Current validation loss: 86.05419725179672, validation accuracy: 97.00%\n",
      "Epoch 8:\n",
      "400 / 2000 : Progress = 20.00%\n",
      "800 / 2000 : Progress = 40.00%\n",
      "1200 / 2000 : Progress = 60.00%\n",
      "1600 / 2000 : Progress = 80.00%\n",
      "2000 / 2000 : Progress = 100.00%\n",
      "Epoch 1: Loss = 163.348388671875\n",
      "Current validation loss: 86.02985578775406, validation accuracy: 96.70%\n",
      "Epoch 9:\n",
      "400 / 2000 : Progress = 20.00%\n",
      "800 / 2000 : Progress = 40.00%\n",
      "1200 / 2000 : Progress = 60.00%\n",
      "1600 / 2000 : Progress = 80.00%\n",
      "2000 / 2000 : Progress = 100.00%\n",
      "Epoch 1: Loss = 162.82611083984375\n",
      "Current validation loss: 85.24876534938812, validation accuracy: 97.50%\n",
      "Epoch 10:\n",
      "400 / 2000 : Progress = 20.00%\n",
      "800 / 2000 : Progress = 40.00%\n",
      "1200 / 2000 : Progress = 60.00%\n",
      "1600 / 2000 : Progress = 80.00%\n",
      "2000 / 2000 : Progress = 100.00%\n",
      "Epoch 1: Loss = 161.12255859375\n",
      "Current validation loss: 85.39460191130638, validation accuracy: 97.10%\n"
     ]
    }
   ],
   "source": [
    "from torchvision.models import AlexNet_Weights\n",
    "model = torch.hub.load('pytorch/vision:v0.10.0', 'alexnet', pretrained=True)\n",
    "model.classifier[6] = torch.nn.Linear(in_features=4096, out_features=2)\n",
    "model = model\n",
    "loss_fn = torch.nn.CrossEntropyLoss()\n",
    "optimizer = torch.optim.SGD(model.parameters(), lr=1e-3)\n",
    "NUM_EPOCHS = 10\n",
    "patience = 5\n",
    "best_validation_loss = float('inf')\n",
    "best_validation_acc = 0.0\n",
    "current_patience = 0\n",
    "for epoch in range(1, NUM_EPOCHS+1):\n",
    "    print(f\"Epoch {epoch}:\")\n",
    "    train(model=model,\n",
    "          train_loader=train_loader,\n",
    "          optimizer=optimizer,\n",
    "          criterion=criterion,\n",
    "          epochs=1,\n",
    "          losses=[])\n",
    "    validation_acc, validation_loss = eval(model=model,\n",
    "                         val_loader=val_loader,\n",
    "                         criterion=criterion,\n",
    "                         print_conf=False\n",
    "                        )\n",
    "    print(f\"Current validation loss: {validation_loss}, validation accuracy: {validation_acc:.2%}\")\n",
    "    if validation_loss < best_validation_loss:\n",
    "        best_validation_loss = validation_loss\n",
    "        best_validation_acc = validation_acc\n",
    "        current_patience = 0\n",
    "        torch.save(model.state_dict(), './Models/best_model.pth')\n",
    "    \n",
    "    else:\n",
    "        current_patience += 1\n",
    "    if current_patience > patience:\n",
    "        print(\"Early stopping! No improvement for {} epochs.\".format(patience))\n",
    "        break"
   ]
  },
  {
   "cell_type": "code",
   "execution_count": 30,
   "metadata": {},
   "outputs": [
    {
     "name": "stdout",
     "output_type": "stream",
     "text": [
      "Best validation loss with early stopiping algorithm: 85.24876534938812\n",
      "Best validation accuracy with early stopiping algorithm: 97.50%\n"
     ]
    }
   ],
   "source": [
    "print(f\"Best validation loss with early stopiping algorithm: {best_validation_loss}\")\n",
    "print(f\"Best validation accuracy with early stopiping algorithm: {best_validation_acc:.2%}\")"
   ]
  }
 ],
 "metadata": {
  "kernelspec": {
   "display_name": "Python 3 (ipykernel)",
   "language": "python",
   "name": "python3"
  },
  "language_info": {
   "codemirror_mode": {
    "name": "ipython",
    "version": 3
   },
   "file_extension": ".py",
   "mimetype": "text/x-python",
   "name": "python",
   "nbconvert_exporter": "python",
   "pygments_lexer": "ipython3",
   "version": "3.12.3"
  }
 },
 "nbformat": 4,
 "nbformat_minor": 2
}
