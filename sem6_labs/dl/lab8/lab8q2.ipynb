{
 "cells": [
  {
   "cell_type": "code",
   "execution_count": 2,
   "metadata": {},
   "outputs": [],
   "source": [
    "import torch\n",
    "import torch.nn as nn\n",
    "from torch.utils.data import Dataset, DataLoader, random_split\n",
    "from torch.nn.utils.rnn import pad_sequence, pack_padded_sequence, pad_packed_sequence\n",
    "\n",
    "from tqdm.notebook import tqdm\n",
    "\n",
    "import glob"
   ]
  },
  {
   "cell_type": "code",
   "execution_count": 25,
   "metadata": {},
   "outputs": [],
   "source": [
    "class NamesDataset(Dataset):\n",
    "    def __init__(self, device='cpu'):\n",
    "        self.inputs = []\n",
    "        self.targets = []\n",
    "        self.device = device\n",
    "        self.ttoi = {}  # Target-to-index mapping\n",
    "        len_targets = 0\n",
    "        self.input_size = 128  # ASCII character range\n",
    "\n",
    "        file_list = glob.glob('/home/student/Desktop/220962049_aiml/names/names/*')\n",
    "        if not file_list:\n",
    "            raise ValueError(\"No files found. Check dataset path.\")\n",
    "\n",
    "        for filename in file_list:\n",
    "            target = filename.split('/')[-1].split('.')[0]\n",
    "\n",
    "            if target not in self.ttoi:\n",
    "                self.ttoi[target] = len_targets\n",
    "                len_targets += 1\n",
    "\n",
    "            with open(filename, 'r') as f:\n",
    "                names = f.read().strip().lower()\n",
    "\n",
    "            if not names:\n",
    "                print(f\"Warning: {filename} is empty.\")\n",
    "                continue\n",
    "\n",
    "            for name in names.split('\\n'):\n",
    "                name = name.strip()\n",
    "                if not name: continue\n",
    "\n",
    "                # Convert name to one-hot encoding\n",
    "                name_tensor = self.name_to_onehot(name)\n",
    "\n",
    "                self.inputs.append(name_tensor)\n",
    "                self.targets.append(torch.tensor(self.ttoi[target]))\n",
    "\n",
    "        if not self.inputs:\n",
    "            raise ValueError(\"No valid data found. Check dataset files.\")\n",
    "\n",
    "    def name_to_onehot(self, name):\n",
    "        \"\"\"Convert a name to a one-hot encoded tensor (sequence_length, 128)\"\"\"\n",
    "        name_tensor = torch.zeros(len(name), self.input_size, dtype=torch.float32)\n",
    "        for i, char in enumerate(name):\n",
    "            ascii_val = ord(char)\n",
    "            if ascii_val < 128:\n",
    "                name_tensor[i][ascii_val] = 1.0  # One-hot encoding\n",
    "        return name_tensor\n",
    "\n",
    "    def __len__(self):\n",
    "        return len(self.targets)\n",
    "\n",
    "    def __getitem__(self, idx):\n",
    "        return self.inputs[idx].to(self.device), self.targets[idx].to(self.device)\n"
   ]
  },
  {
   "cell_type": "code",
   "execution_count": 26,
   "metadata": {},
   "outputs": [
    {
     "name": "stdout",
     "output_type": "stream",
     "text": [
      "Dataset size: 20074\n",
      "Sample input: (tensor([[0., 0., 0., 0., 0., 0., 0., 0., 0., 0., 0., 0., 0., 0., 0., 0., 0., 0.,\n",
      "         0., 0., 0., 0., 0., 0., 0., 0., 0., 0., 0., 0., 0., 0., 0., 0., 0., 0.,\n",
      "         0., 0., 0., 0., 0., 0., 0., 0., 0., 0., 0., 0., 0., 0., 0., 0., 0., 0.,\n",
      "         0., 0., 0., 0., 0., 0., 0., 0., 0., 0., 0., 0., 0., 0., 0., 0., 0., 0.,\n",
      "         0., 0., 0., 0., 0., 0., 0., 0., 0., 0., 0., 0., 0., 0., 0., 0., 0., 0.,\n",
      "         0., 0., 0., 0., 0., 0., 0., 1., 0., 0., 0., 0., 0., 0., 0., 0., 0., 0.,\n",
      "         0., 0., 0., 0., 0., 0., 0., 0., 0., 0., 0., 0., 0., 0., 0., 0., 0., 0.,\n",
      "         0., 0.],\n",
      "        [0., 0., 0., 0., 0., 0., 0., 0., 0., 0., 0., 0., 0., 0., 0., 0., 0., 0.,\n",
      "         0., 0., 0., 0., 0., 0., 0., 0., 0., 0., 0., 0., 0., 0., 0., 0., 0., 0.,\n",
      "         0., 0., 0., 0., 0., 0., 0., 0., 0., 0., 0., 0., 0., 0., 0., 0., 0., 0.,\n",
      "         0., 0., 0., 0., 0., 0., 0., 0., 0., 0., 0., 0., 0., 0., 0., 0., 0., 0.,\n",
      "         0., 0., 0., 0., 0., 0., 0., 0., 0., 0., 0., 0., 0., 0., 0., 0., 0., 0.,\n",
      "         0., 0., 0., 0., 0., 0., 0., 0., 1., 0., 0., 0., 0., 0., 0., 0., 0., 0.,\n",
      "         0., 0., 0., 0., 0., 0., 0., 0., 0., 0., 0., 0., 0., 0., 0., 0., 0., 0.,\n",
      "         0., 0.],\n",
      "        [0., 0., 0., 0., 0., 0., 0., 0., 0., 0., 0., 0., 0., 0., 0., 0., 0., 0.,\n",
      "         0., 0., 0., 0., 0., 0., 0., 0., 0., 0., 0., 0., 0., 0., 0., 0., 0., 0.,\n",
      "         0., 0., 0., 0., 0., 0., 0., 0., 0., 0., 0., 0., 0., 0., 0., 0., 0., 0.,\n",
      "         0., 0., 0., 0., 0., 0., 0., 0., 0., 0., 0., 0., 0., 0., 0., 0., 0., 0.,\n",
      "         0., 0., 0., 0., 0., 0., 0., 0., 0., 0., 0., 0., 0., 0., 0., 0., 0., 0.,\n",
      "         0., 0., 0., 0., 0., 0., 0., 0., 0., 0., 0., 1., 0., 0., 0., 0., 0., 0.,\n",
      "         0., 0., 0., 0., 0., 0., 0., 0., 0., 0., 0., 0., 0., 0., 0., 0., 0., 0.,\n",
      "         0., 0.],\n",
      "        [0., 0., 0., 0., 0., 0., 0., 0., 0., 0., 0., 0., 0., 0., 0., 0., 0., 0.,\n",
      "         0., 0., 0., 0., 0., 0., 0., 0., 0., 0., 0., 0., 0., 0., 0., 0., 0., 0.,\n",
      "         0., 0., 0., 0., 0., 0., 0., 0., 0., 0., 0., 0., 0., 0., 0., 0., 0., 0.,\n",
      "         0., 0., 0., 0., 0., 0., 0., 0., 0., 0., 0., 0., 0., 0., 0., 0., 0., 0.,\n",
      "         0., 0., 0., 0., 0., 0., 0., 0., 0., 0., 0., 0., 0., 0., 0., 0., 0., 0.,\n",
      "         0., 0., 0., 0., 0., 0., 0., 0., 0., 0., 0., 0., 0., 0., 0., 0., 0., 0.,\n",
      "         1., 0., 0., 0., 0., 0., 0., 0., 0., 0., 0., 0., 0., 0., 0., 0., 0., 0.,\n",
      "         0., 0.]]), tensor(0))\n",
      "Languages mapping: {'French': 0, 'Russian': 1, 'Scottish': 2, 'Chinese': 3, 'Czech': 4, 'Arabic': 5, 'Korean': 6, 'Japanese': 7, 'Vietnamese': 8, 'Dutch': 9, 'Greek': 10, 'Spanish': 11, 'Irish': 12, 'German': 13, 'Italian': 14, 'Polish': 15, 'Portuguese': 16, 'English': 17}\n"
     ]
    }
   ],
   "source": [
    "dataset = NamesDataset(device=\"cpu\")\n",
    "print(f\"Dataset size: {len(dataset)}\")\n",
    "print(\"Sample input:\", dataset[0])\n",
    "print(\"Languages mapping:\", dataset.ttoi)\n"
   ]
  },
  {
   "cell_type": "code",
   "execution_count": 29,
   "metadata": {},
   "outputs": [],
   "source": [
    "from torch.utils.data import DataLoader\n",
    "from torch.nn.utils.rnn import pad_sequence\n",
    "\n",
    "# Custom collate function for padding\n",
    "def custom_collate_fn(batch):\n",
    "    inputs, targets = zip(*batch)\n",
    "    inputs_padded = pad_sequence(inputs, batch_first=True, padding_value=0)  # Pad to same length\n",
    "    targets = torch.tensor(targets, dtype=torch.int64)\n",
    "    return inputs_padded, targets\n",
    "\n",
    "# Create DataLoaders\n",
    "train_size = int(0.8 * len(dataset))\n",
    "test_size = len(dataset) - train_size\n",
    "train_dataset, test_dataset = torch.utils.data.random_split(dataset, [train_size, test_size])\n",
    "\n",
    "train_loader = DataLoader(train_dataset, batch_size=256, shuffle=True, collate_fn=custom_collate_fn)\n",
    "test_loader = DataLoader(test_dataset, batch_size=1, shuffle=False, collate_fn=custom_collate_fn)\n"
   ]
  },
  {
   "cell_type": "code",
   "execution_count": 30,
   "metadata": {},
   "outputs": [],
   "source": [
    "import torch.nn as nn\n",
    "\n",
    "class RNN(nn.Module):\n",
    "    def __init__(self, input_size, hidden_size, output_size):\n",
    "        super(RNN, self).__init__()\n",
    "        self.hidden_size = hidden_size\n",
    "        self.rnn = nn.RNN(input_size, hidden_size, batch_first=True)\n",
    "        self.fc = nn.Linear(hidden_size, output_size)\n",
    "\n",
    "    def forward(self, x):\n",
    "        _, hidden = self.rnn(x)  # Get final hidden state\n",
    "        return self.fc(hidden.squeeze(0))  # Pass through linear layer\n"
   ]
  },
  {
   "cell_type": "code",
   "execution_count": 31,
   "metadata": {},
   "outputs": [],
   "source": [
    "device = \"cuda\" if torch.cuda.is_available() else \"cpu\"\n",
    "\n",
    "input_size = 128  # ASCII character range\n",
    "hidden_size = 128\n",
    "output_size = len(dataset.ttoi)\n",
    "\n",
    "model = RNN(input_size, hidden_size, output_size).to(device)\n",
    "criterion = nn.CrossEntropyLoss()\n",
    "optimizer = torch.optim.Adam(model.parameters(), lr=0.005)\n"
   ]
  },
  {
   "cell_type": "code",
   "execution_count": 35,
   "metadata": {},
   "outputs": [
    {
     "name": "stdout",
     "output_type": "stream",
     "text": [
      "Epoch 0, Loss: 1.7537944316864014\n",
      "Epoch 10, Loss: 1.7654621601104736\n",
      "Epoch 20, Loss: 1.7910007238388062\n",
      "Epoch 30, Loss: 1.7074795961380005\n",
      "Epoch 40, Loss: 1.9959580898284912\n",
      "Epoch 50, Loss: 1.6526007652282715\n",
      "Epoch 60, Loss: 1.8315571546554565\n",
      "Epoch 70, Loss: 2.0479135513305664\n",
      "Epoch 80, Loss: 1.786002278327942\n",
      "Epoch 90, Loss: 1.8503060340881348\n",
      "Epoch 100, Loss: 1.9190142154693604\n",
      "Epoch 110, Loss: 1.9395415782928467\n"
     ]
    }
   ],
   "source": [
    "num_epochs = 120\n",
    "\n",
    "for epoch in range(num_epochs):\n",
    "    for batch, targets in train_loader:\n",
    "        batch, targets = batch.to(device, dtype=torch.float32), targets.to(device)\n",
    "\n",
    "        optimizer.zero_grad()\n",
    "        outputs = model(batch)\n",
    "        loss = criterion(outputs, targets)\n",
    "        loss.backward()\n",
    "        optimizer.step()\n",
    "\n",
    "    if epoch % 10 == 0:\n",
    "        print(f\"Epoch {epoch}, Loss: {loss.item()}\")\n"
   ]
  },
  {
   "cell_type": "code",
   "execution_count": 36,
   "metadata": {},
   "outputs": [
    {
     "name": "stdout",
     "output_type": "stream",
     "text": [
      "Accuracy: 47.27%\n"
     ]
    }
   ],
   "source": [
    "correct = 0\n",
    "total = 0\n",
    "\n",
    "with torch.no_grad():\n",
    "    for batch, targets in test_loader:\n",
    "        batch, targets = batch.to(device, dtype=torch.float32), targets.to(device)\n",
    "        outputs = model(batch)\n",
    "        _, predicted = torch.max(outputs, 1)\n",
    "        correct += (predicted == targets).sum().item()\n",
    "        total += targets.size(0)\n",
    "\n",
    "print(f\"Accuracy: {correct / total:.2%}\")\n"
   ]
  }
 ],
 "metadata": {
  "kernelspec": {
   "display_name": "Python 3 (ipykernel)",
   "language": "python",
   "name": "python3"
  },
  "language_info": {
   "codemirror_mode": {
    "name": "ipython",
    "version": 3
   },
   "file_extension": ".py",
   "mimetype": "text/x-python",
   "name": "python",
   "nbconvert_exporter": "python",
   "pygments_lexer": "ipython3",
   "version": "3.12.3"
  }
 },
 "nbformat": 4,
 "nbformat_minor": 2
}
