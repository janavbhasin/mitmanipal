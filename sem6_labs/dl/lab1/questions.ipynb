{
 "cells": [
  {
   "cell_type": "code",
   "execution_count": 2,
   "metadata": {},
   "outputs": [],
   "source": [
    "import torch"
   ]
  },
  {
   "cell_type": "markdown",
   "metadata": {},
   "source": [
    "### Q1"
   ]
  },
  {
   "cell_type": "code",
   "execution_count": 3,
   "metadata": {},
   "outputs": [
    {
     "name": "stdout",
     "output_type": "stream",
     "text": [
      "Original  tensor([[ 0.6845,  0.1263,  1.8317],\n",
      "        [-0.5794,  0.9546, -0.4805]])\n",
      "\n",
      "Reshaped  tensor([[ 0.6845,  0.1263],\n",
      "        [ 1.8317, -0.5794],\n",
      "        [ 0.9546, -0.4805]])\n",
      "\n",
      "Viewed  tensor([ 0.6845,  0.1263,  1.8317, -0.5794,  0.9546, -0.4805])\n",
      "\n",
      "Stacked  tensor([[[ 1.8348,  1.8574, -0.6521],\n",
      "         [ 0.0185, -0.5179,  1.2557]],\n",
      "\n",
      "        [[-0.1589,  1.0716, -0.2319],\n",
      "         [ 1.0033, -0.1226, -0.0318]]])\n",
      "\n",
      "Squeezed  tensor([[ 0.6845,  0.1263,  1.8317],\n",
      "        [-0.5794,  0.9546, -0.4805]])\n",
      "\n",
      "Unsqueezed  tensor([[[ 0.6845,  0.1263,  1.8317],\n",
      "         [-0.5794,  0.9546, -0.4805]]])\n"
     ]
    }
   ],
   "source": [
    "tensor = torch.randn(2, 3)\n",
    "print(\"Original \",tensor)\n",
    "re= tensor.view(3, 2)\n",
    "print(\"\\nReshaped \",re)\n",
    "vi = tensor.view(-1) \n",
    "print(\"\\nViewed \",vi)\n",
    "t1 = torch.randn(2, 3)\n",
    "t2 = torch.randn(2, 3)\n",
    "st= torch.stack([t1, t2], dim=0)\n",
    "print(\"\\nStacked \",st)\n",
    "sq = tensor.squeeze()\n",
    "print(\"\\nSqueezed \",sq)\n",
    "un = tensor.unsqueeze(0)\n",
    "print(\"\\nUnsqueezed \",un)"
   ]
  },
  {
   "cell_type": "markdown",
   "metadata": {},
   "source": [
    "### Q2"
   ]
  },
  {
   "cell_type": "code",
   "execution_count": 4,
   "metadata": {},
   "outputs": [
    {
     "name": "stdout",
     "output_type": "stream",
     "text": [
      "\n",
      "Permuted tensor([[ 0.6845, -0.5794],\n",
      "        [ 0.1263,  0.9546],\n",
      "        [ 1.8317, -0.4805]])\n"
     ]
    }
   ],
   "source": [
    "permuted_tensor = tensor.permute(1, 0)\n",
    "print(\"\\nPermuted\",permuted_tensor)"
   ]
  },
  {
   "cell_type": "markdown",
   "metadata": {},
   "source": [
    "### Q3"
   ]
  },
  {
   "cell_type": "code",
   "execution_count": 5,
   "metadata": {},
   "outputs": [
    {
     "name": "stdout",
     "output_type": "stream",
     "text": [
      "Original  tensor([[1, 2, 3],\n",
      "        [4, 5, 6],\n",
      "        [7, 8, 9]])\n",
      "index  tensor(3)\n"
     ]
    }
   ],
   "source": [
    "tensor = torch.tensor([[1, 2, 3], [4, 5, 6], [7, 8, 9]])\n",
    "print(\"Original \",tensor)\n",
    "i=tensor[0,2]\n",
    "print('index ',i)"
   ]
  },
  {
   "cell_type": "markdown",
   "metadata": {},
   "source": [
    "### Q4"
   ]
  },
  {
   "cell_type": "code",
   "execution_count": 8,
   "metadata": {},
   "outputs": [
    {
     "name": "stdout",
     "output_type": "stream",
     "text": [
      "[[1 2 3]\n",
      " [4 5 6]]\n",
      "np->te tensor([[1, 2, 3],\n",
      "        [4, 5, 6]])\n",
      "te->np [[1 2 3]\n",
      " [4 5 6]]\n"
     ]
    }
   ],
   "source": [
    "import numpy as np\n",
    "n=np.array([[1,2,3],[4,5,6]])\n",
    "print(n)\n",
    "te=torch.from_numpy(n)\n",
    "print('np->te',te)\n",
    "np_b=te.numpy()\n",
    "print('te->np',np_b)"
   ]
  },
  {
   "cell_type": "markdown",
   "metadata": {},
   "source": [
    "### Q5"
   ]
  },
  {
   "cell_type": "code",
   "execution_count": 9,
   "metadata": {},
   "outputs": [
    {
     "name": "stdout",
     "output_type": "stream",
     "text": [
      "tensor([[ 0.0578, -1.1934,  0.4811,  1.1300,  1.5266, -1.5101, -1.5977],\n",
      "        [-0.9811, -0.7453,  0.0861, -1.4361,  1.1553,  2.2529, -0.3537],\n",
      "        [-0.7630, -0.4877,  1.3133,  1.3334, -1.3079,  0.0545,  0.3248],\n",
      "        [ 1.6005, -0.6533, -1.9406, -0.0396,  1.3271, -1.3730, -0.1591],\n",
      "        [ 2.0043,  0.5643, -0.0540,  0.7872, -0.0045, -1.0447,  0.5429],\n",
      "        [-0.2311, -1.2222,  0.0759,  0.8515,  0.5707,  0.3192,  0.8365],\n",
      "        [ 1.6149, -0.0311,  1.8289,  0.3364, -0.5149, -1.5033, -0.4426]])\n"
     ]
    }
   ],
   "source": [
    "ran = torch.randn(7, 7)\n",
    "print(ran)"
   ]
  },
  {
   "cell_type": "markdown",
   "metadata": {},
   "source": [
    "### Q6"
   ]
  },
  {
   "cell_type": "code",
   "execution_count": 10,
   "metadata": {},
   "outputs": [
    {
     "name": "stdout",
     "output_type": "stream",
     "text": [
      "Result of matrix multiplication:\n",
      "tensor([[ 0.3184],\n",
      "        [-7.8056],\n",
      "        [-0.1065],\n",
      "        [ 0.8896],\n",
      "        [ 4.7533],\n",
      "        [-3.2453],\n",
      "        [ 4.4489]])\n"
     ]
    }
   ],
   "source": [
    "tensor2 = torch.randn(1, 7)\n",
    "result = torch.matmul(ran, tensor2.T),\n",
    "print(result)"
   ]
  },
  {
   "cell_type": "markdown",
   "metadata": {},
   "source": [
    "### Q7"
   ]
  },
  {
   "cell_type": "code",
   "execution_count": 11,
   "metadata": {},
   "outputs": [
    {
     "name": "stdout",
     "output_type": "stream",
     "text": [
      "a on: cpu\n",
      "tensor([[ 1.1465, -1.9663,  1.3578],\n",
      "        [-0.2934,  1.1299,  1.3527]])\n",
      "\n",
      "b on: cpu\n",
      "tensor([[-0.2314,  1.1843,  0.1483],\n",
      "        [-0.7636,  1.1770, -2.2765]])\n"
     ]
    },
    {
     "name": "stderr",
     "output_type": "stream",
     "text": [
      "/home/student/myenv/lib/python3.12/site-packages/torch/cuda/__init__.py:129: UserWarning: CUDA initialization: Unexpected error from cudaGetDeviceCount(). Did you run some cuda functions before calling NumCudaDevices() that might have already set an error? Error 804: forward compatibility was attempted on non supported HW (Triggered internally at ../c10/cuda/CUDAFunctions.cpp:108.)\n",
      "  return torch._C._cuda_getDeviceCount() > 0\n"
     ]
    }
   ],
   "source": [
    "d = torch.device(\"cuda\" if torch.cuda.is_available() else \"cpu\")\n",
    "a = torch.randn(2, 3)\n",
    "b = torch.randn(2, 3)\n",
    "a = a.to(d)\n",
    "b = b.to(d)\n",
    "print(\"a on:\", a.device)\n",
    "print(a)\n",
    "print(\"\\nb on:\", b.device)\n",
    "print(b)\n"
   ]
  },
  {
   "cell_type": "markdown",
   "metadata": {},
   "source": [
    "### Q8"
   ]
  },
  {
   "cell_type": "code",
   "execution_count": 13,
   "metadata": {},
   "outputs": [
    {
     "name": "stdout",
     "output_type": "stream",
     "text": [
      "tensor([[-2.3927, -6.2810],\n",
      "        [ 1.6067, -1.5255]])\n"
     ]
    }
   ],
   "source": [
    "re = torch.matmul(a, b.T) \n",
    "print(re)"
   ]
  },
  {
   "cell_type": "markdown",
   "metadata": {},
   "source": [
    "### Q9"
   ]
  },
  {
   "cell_type": "code",
   "execution_count": 15,
   "metadata": {},
   "outputs": [
    {
     "name": "stdout",
     "output_type": "stream",
     "text": [
      "max val tensor(1.6067)\n",
      "min val tensor(-6.2810)\n"
     ]
    }
   ],
   "source": [
    "print('max val',torch.max(re))\n",
    "print('min val',torch.min(re))"
   ]
  },
  {
   "cell_type": "markdown",
   "metadata": {},
   "source": [
    "### Q10"
   ]
  },
  {
   "cell_type": "code",
   "execution_count": 16,
   "metadata": {},
   "outputs": [
    {
     "name": "stdout",
     "output_type": "stream",
     "text": [
      "max val index tensor(2)\n",
      "min val index tensor(1)\n"
     ]
    }
   ],
   "source": [
    "print('max val index',torch.argmax(re))\n",
    "print('min val index',torch.argmin(re))"
   ]
  },
  {
   "cell_type": "markdown",
   "metadata": {},
   "source": [
    "### Q11"
   ]
  },
  {
   "cell_type": "code",
   "execution_count": 17,
   "metadata": {},
   "outputs": [
    {
     "name": "stdout",
     "output_type": "stream",
     "text": [
      "tensor([[[[-0.1468,  0.7861,  0.9468, -1.1143,  1.6908, -0.8948, -0.3556,\n",
      "            1.2324,  0.1382, -1.6822]]]]) torch.Size([1, 1, 1, 10])\n",
      "tensor([-0.1468,  0.7861,  0.9468, -1.1143,  1.6908, -0.8948, -0.3556,  1.2324,\n",
      "         0.1382, -1.6822]) torch.Size([10])\n"
     ]
    }
   ],
   "source": [
    "torch.manual_seed(7)\n",
    "t = torch.randn(1, 1, 1, 10)\n",
    "t2 = t.squeeze()\n",
    "print(t, t.shape)\n",
    "print(t2, t2.shape)"
   ]
  },
  {
   "cell_type": "code",
   "execution_count": null,
   "metadata": {},
   "outputs": [],
   "source": []
  }
 ],
 "metadata": {
  "kernelspec": {
   "display_name": "Python (myenv)",
   "language": "python",
   "name": "myenv"
  },
  "language_info": {
   "codemirror_mode": {
    "name": "ipython",
    "version": 3
   },
   "file_extension": ".py",
   "mimetype": "text/x-python",
   "name": "python",
   "nbconvert_exporter": "python",
   "pygments_lexer": "ipython3",
   "version": "3.12.3"
  }
 },
 "nbformat": 4,
 "nbformat_minor": 2
}
