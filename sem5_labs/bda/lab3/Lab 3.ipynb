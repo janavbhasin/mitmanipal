{
 "cells": [
  {
   "cell_type": "code",
   "execution_count": 1,
   "metadata": {},
   "outputs": [],
   "source": [
    "from pyspark.sql import SparkSession\n",
    "from pyspark.sql.functions import col, lower, regexp_replace, udf\n",
    "from pyspark.sql.types import StringType\n",
    "from pyspark.ml.feature import Tokenizer, StopWordsRemover, StringIndexer\n",
    "import re\n",
    "import numpy as np"
   ]
  },
  {
   "cell_type": "code",
   "execution_count": 2,
   "metadata": {},
   "outputs": [
    {
     "name": "stderr",
     "output_type": "stream",
     "text": [
      "/home/lplab/anaconda3/lib/python3.7/site-packages/pyspark/context.py:317: FutureWarning: Python 3.7 support is deprecated in Spark 3.4.\n",
      "  warnings.warn(\"Python 3.7 support is deprecated in Spark 3.4.\", FutureWarning)\n"
     ]
    }
   ],
   "source": [
    "spark = SparkSession.builder\\\n",
    "        .appName(\"Lab 3\")\\\n",
    "        .getOrCreate()"
   ]
  },
  {
   "cell_type": "markdown",
   "metadata": {},
   "source": [
    "## Q1"
   ]
  },
  {
   "cell_type": "code",
   "execution_count": 7,
   "metadata": {},
   "outputs": [
    {
     "name": "stdout",
     "output_type": "stream",
     "text": [
      "root\n",
      " |-- Index: integer (nullable = true)\n",
      " |-- Customer Id: string (nullable = true)\n",
      " |-- First Name: string (nullable = true)\n",
      " |-- Last Name: string (nullable = true)\n",
      " |-- Company: string (nullable = true)\n",
      " |-- City: string (nullable = true)\n",
      " |-- Country: string (nullable = true)\n",
      " |-- Phone 1: string (nullable = true)\n",
      " |-- Phone 2: string (nullable = true)\n",
      " |-- Email: string (nullable = true)\n",
      " |-- Subscription Date: date (nullable = true)\n",
      " |-- Website: string (nullable = true)\n",
      "\n"
     ]
    }
   ],
   "source": [
    "df = spark.read.csv('/home/lplab/Desktop/janav_220962049/customers-100.csv', header=True, inferSchema=True)\n",
    "df.printSchema()"
   ]
  },
  {
   "cell_type": "code",
   "execution_count": 8,
   "metadata": {},
   "outputs": [],
   "source": [
    "def clean_text(text):\n",
    "    if text:\n",
    "        # Convert to lowercase\n",
    "        text = text.lower()\n",
    "        # Remove punctuation and special characters\n",
    "        text = re.sub(r'[^\\w\\s]', '', text)\n",
    "        # Replace multiple spaces with a single space\n",
    "        text = re.sub(r'\\s+', ' ', text)\n",
    "    return text"
   ]
  },
  {
   "cell_type": "code",
   "execution_count": 9,
   "metadata": {},
   "outputs": [],
   "source": [
    "clean_text_udf = udf(clean_text, StringType())"
   ]
  },
  {
   "cell_type": "code",
   "execution_count": 10,
   "metadata": {},
   "outputs": [
    {
     "name": "stdout",
     "output_type": "stream",
     "text": [
      "root\n",
      " |-- Index: integer (nullable = true)\n",
      " |-- Customer Id: string (nullable = true)\n",
      " |-- First Name: string (nullable = true)\n",
      " |-- Last Name: string (nullable = true)\n",
      " |-- Company: string (nullable = true)\n",
      " |-- City: string (nullable = true)\n",
      " |-- Country: string (nullable = true)\n",
      " |-- Phone 1: string (nullable = true)\n",
      " |-- Phone 2: string (nullable = true)\n",
      " |-- Email: string (nullable = true)\n",
      " |-- Subscription Date: date (nullable = true)\n",
      " |-- Website: string (nullable = true)\n",
      " |-- Customer Id Cleaned: string (nullable = true)\n",
      " |-- First Name Cleaned: string (nullable = true)\n",
      " |-- Last Name Cleaned: string (nullable = true)\n",
      " |-- Company Cleaned: string (nullable = true)\n",
      " |-- City Cleaned: string (nullable = true)\n",
      " |-- Country Cleaned: string (nullable = true)\n",
      " |-- Phone 1 Cleaned: string (nullable = true)\n",
      " |-- Phone 2 Cleaned: string (nullable = true)\n",
      " |-- Email Cleaned: string (nullable = true)\n",
      " |-- Website Cleaned: string (nullable = true)\n",
      "\n"
     ]
    }
   ],
   "source": [
    "df_cleaned = df.withColumn(\"Customer Id Cleaned\", clean_text_udf(col(\"Customer Id\"))) \\\n",
    "                .withColumn(\"First Name Cleaned\", clean_text_udf(col(\"First Name\"))) \\\n",
    "                .withColumn(\"Last Name Cleaned\", clean_text_udf(col(\"Last Name\"))) \\\n",
    "                .withColumn(\"Company Cleaned\", clean_text_udf(col(\"Company\"))) \\\n",
    "                .withColumn(\"City Cleaned\", clean_text_udf(col(\"City\"))) \\\n",
    "                .withColumn(\"Country Cleaned\", clean_text_udf(col(\"Country\"))) \\\n",
    "                .withColumn(\"Phone 1 Cleaned\", clean_text_udf(col(\"Phone 1\"))) \\\n",
    "                .withColumn(\"Phone 2 Cleaned\", clean_text_udf(col(\"Phone 2\"))) \\\n",
    "                .withColumn(\"Email Cleaned\", clean_text_udf(col(\"Email\"))) \\\n",
    "                .withColumn(\"Website Cleaned\", clean_text_udf(col(\"Website\")))\n",
    "\n",
    "df_cleaned.printSchema()"
   ]
  },
  {
   "cell_type": "code",
   "execution_count": 11,
   "metadata": {},
   "outputs": [
    {
     "name": "stdout",
     "output_type": "stream",
     "text": [
      "DataFrame[Index: int, Customer Id: string, First Name: string, Last Name: string, Company: string, City: string, Country: string, Phone 1: string, Phone 2: string, Email: string, Subscription Date: date, Website: string, Customer Id Cleaned: string, First Name Cleaned: string, Last Name Cleaned: string, Company Cleaned: string, City Cleaned: string, Country Cleaned: string, Phone 1 Cleaned: string, Phone 2 Cleaned: string, Email Cleaned: string, Website Cleaned: string, First Name Tokens: array<string>]\n"
     ]
    }
   ],
   "source": [
    "tokenizer = Tokenizer(inputCol=\"First Name Cleaned\", outputCol=\"First Name Tokens\")\n",
    "df_tokens = tokenizer.transform(df_cleaned)\n",
    "print(df_tokens)"
   ]
  },
  {
   "cell_type": "markdown",
   "metadata": {},
   "source": [
    "## Q2"
   ]
  },
  {
   "cell_type": "code",
   "execution_count": 12,
   "metadata": {},
   "outputs": [],
   "source": [
    "from pyspark.ml.linalg import Vectors, VectorUDT\n",
    "from pyspark.sql.types import ArrayType, FloatType"
   ]
  },
  {
   "cell_type": "code",
   "execution_count": 13,
   "metadata": {},
   "outputs": [],
   "source": [
    "def jaccard_similarity(set1, set2):\n",
    "    set1 = set(set1)\n",
    "    set2 = set(set2)\n",
    "    intersection = len(set1.intersection(set2))\n",
    "    union = len(set1.union(set2))\n",
    "    return intersection / union if union != 0 else 0.0\n",
    "\n",
    "jaccard_similarity_udf = udf(jaccard_similarity, FloatType())\n",
    "\n",
    "# Convert phone numbers to sets of characters for comparison\n",
    "def phone_to_set(phone):\n",
    "    return list(phone) if phone else []\n",
    "\n",
    "phone_to_set_udf = udf(phone_to_set, ArrayType(StringType()))"
   ]
  },
  {
   "cell_type": "code",
   "execution_count": 14,
   "metadata": {},
   "outputs": [],
   "source": [
    "df_with_sets = df.withColumn(\"Phone 1 Set\", phone_to_set_udf(col(\"Phone 1\"))) \\\n",
    "                 .withColumn(\"Phone 2 Set\", phone_to_set_udf(col(\"Phone 2\")))\n",
    "df_with_jaccard = df_with_sets.withColumn(\"Jaccard Similarity\", jaccard_similarity_udf(col(\"Phone 1 Set\"), col(\"Phone 2 Set\")))"
   ]
  },
  {
   "cell_type": "code",
   "execution_count": 15,
   "metadata": {},
   "outputs": [
    {
     "name": "stdout",
     "output_type": "stream",
     "text": [
      "Phone 1: 229.077.5154, Phone 2: 397.884.0519x718, Jaccard Similarity: 0.6363636255264282\n",
      "Phone 1: 5153435776, Phone 2: 686-620-1820x944, Jaccard Similarity: 0.25\n",
      "Phone 1: +1-539-402-0259, Phone 2: (496)978-3969x58947, Jaccard Similarity: 0.3333333432674408\n",
      "Phone 1: 001-808-617-6467x12895, Phone 2: +1-813-324-8756, Jaccard Similarity: 0.6153846383094788\n",
      "Phone 1: 001-234-203-0635x76146, Phone 2: 001-199-446-3860x3486, Jaccard Similarity: 0.5833333134651184\n",
      "Phone 1: (283)437-3886x88321, Phone 2: 999-728-1637, Jaccard Similarity: 0.5833333134651184\n",
      "Phone 1: (496)452-6181x3291, Phone 2: +1-247-266-0963x4995, Jaccard Similarity: 0.6000000238418579\n",
      "Phone 1: 001-583-352-7197x297, Phone 2: 001-333-145-0369, Jaccard Similarity: 0.5\n",
      "Phone 1: 854-138-4911x5772, Phone 2: +1-448-910-2276x729, Jaccard Similarity: 0.6153846383094788\n",
      "Phone 1: 739.218.2516x459, Phone 2: 001-054-401-0347x617, Jaccard Similarity: 0.5384615659713745\n",
      "Phone 1: 637-854-0256x825, Phone 2: 114.336.0784x788, Jaccard Similarity: 0.5833333134651184\n",
      "Phone 1: (041)737-3846, Phone 2: +1-556-888-3485x42608, Jaccard Similarity: 0.5\n",
      "Phone 1: 001-949-844-8787, Phone 2: (855)713-8773, Jaccard Similarity: 0.3636363744735718\n",
      "Phone 1: 786-284-3358x62152, Phone 2: +1-315-627-1796x8074, Jaccard Similarity: 0.7692307829856873\n",
      "Phone 1: (781)861-7180x8306, Phone 2: 207-185-3665, Jaccard Similarity: 0.5833333134651184\n",
      "Phone 1: 540.085.3135x185, Phone 2: +1-600-462-6432x21881, Jaccard Similarity: 0.5\n",
      "Phone 1: 936.222.4746x9924, Phone 2: 001-469-948-6341x359, Jaccard Similarity: 0.38461539149284363\n",
      "Phone 1: (701)087-2415, Phone 2: (195)156-1861x26241, Jaccard Similarity: 0.6153846383094788\n",
      "Phone 1: 001-151-330-3524x0469, Phone 2: (748)477-7174, Jaccard Similarity: 0.2142857164144516\n",
      "Phone 1: (266)131-7001x711, Phone 2: (283)312-5579x11543, Jaccard Similarity: 0.5714285969734192\n",
      "Phone 1: 423.262.3059, Phone 2: 202-880-0688x7491, Jaccard Similarity: 0.38461539149284363\n",
      "Phone 1: 001-274-040-3582x10611, Phone 2: +1-528-175-0973x4684, Jaccard Similarity: 0.8461538553237915\n",
      "Phone 1: 1935085151, Phone 2: (947)115-7711x5488, Jaccard Similarity: 0.3333333432674408\n",
      "Phone 1: 354.259.5062x7538, Phone 2: 500.433.2022, Jaccard Similarity: 0.5454545617103577\n",
      "Phone 1: (429)005-9030x11004, Phone 2: 541-116-4501, Jaccard Similarity: 0.4166666567325592\n",
      "Phone 1: 674-677-8623, Phone 2: 909-277-5485x566, Jaccard Similarity: 0.5454545617103577\n",
      "Phone 1: (371)987-8576x4720, Phone 2: 071-152-1376, Jaccard Similarity: 0.5714285969734192\n",
      "Phone 1: +1-077-121-1558x0687, Phone 2: 264.742.7149, Jaccard Similarity: 0.3076923191547394\n",
      "Phone 1: (752)776-3286, Phone 2: +1-472-021-4814x85074, Jaccard Similarity: 0.3571428656578064\n",
      "Phone 1: +1-472-143-5037x884, Phone 2: 126.922.6153, Jaccard Similarity: 0.2857142984867096\n",
      "Phone 1: 965-108-4406x20714, Phone 2: 046.906.1442x6784, Jaccard Similarity: 0.75\n",
      "Phone 1: 416-338-3758, Phone 2: (775)890-7209, Jaccard Similarity: 0.3076923191547394\n",
      "Phone 1: 4077245425, Phone 2: 646.044.0696x66800, Jaccard Similarity: 0.20000000298023224\n",
      "Phone 1: 6303643286, Phone 2: 447-710-6202x07313, Jaccard Similarity: 0.5\n",
      "Phone 1: +1-586-217-0359x6317, Phone 2: +1-818-199-1403, Jaccard Similarity: 0.5384615659713745\n",
      "Phone 1: 001-276-734-4113x6087, Phone 2: (430)300-8770, Jaccard Similarity: 0.5\n",
      "Phone 1: (661)425-6042, Phone 2: 975-998-1519, Jaccard Similarity: 0.25\n",
      "Phone 1: 7208417020, Phone 2: 8035336772, Jaccard Similarity: 0.4444444477558136\n",
      "Phone 1: 559-529-4424, Phone 2: 001-625-000-7132x0367, Jaccard Similarity: 0.27272728085517883\n",
      "Phone 1: 001-067-713-6440x158, Phone 2: (978)289-8785x5766, Jaccard Similarity: 0.4285714328289032\n",
      "Phone 1: 830.996.8238, Phone 2: 499.122.5415, Jaccard Similarity: 0.30000001192092896\n",
      "Phone 1: 001-710-802-5565, Phone 2: 078.699.8982x13881, Jaccard Similarity: 0.5\n",
      "Phone 1: (344)156-8632x1869, Phone 2: 463-445-3702x38463, Jaccard Similarity: 0.5714285969734192\n",
      "Phone 1: 001-336-025-6849x701, Phone 2: 684.698.2911x6092, Jaccard Similarity: 0.6153846383094788\n",
      "Phone 1: (127)081-9339, Phone 2: +1-431-028-3337x3492, Jaccard Similarity: 0.6153846383094788\n",
      "Phone 1: (897)726-7952, Phone 2: (467)886-9467x5721, Jaccard Similarity: 0.75\n",
      "Phone 1: 975.235.8921x269, Phone 2: (983)188-6873, Jaccard Similarity: 0.4615384638309479\n",
      "Phone 1: 445-603-6729, Phone 2: 001-395-959-4736x4524, Jaccard Similarity: 0.8181818127632141\n",
      "Phone 1: 741.849.0139x524, Phone 2: +1-028-691-7497x0894, Jaccard Similarity: 0.5714285969734192\n",
      "Phone 1: (530)287-4548x29481, Phone 2: 162-234-0249x32790, Jaccard Similarity: 0.6428571343421936\n",
      "Phone 1: +1-323-239-1456x96168, Phone 2: (092)508-0269, Jaccard Similarity: 0.4285714328289032\n",
      "Phone 1: 802-242-7457, Phone 2: 626.116.9535x8578, Jaccard Similarity: 0.3076923191547394\n",
      "Phone 1: 322.549.7139x70040, Phone 2: (111)741-4173, Jaccard Similarity: 0.3076923191547394\n",
      "Phone 1: 001-622-948-3641x24810, Phone 2: 001-731-168-2893x8891, Jaccard Similarity: 0.8181818127632141\n",
      "Phone 1: 698.303.4267, Phone 2: 001-683-837-7651x525, Jaccard Similarity: 0.4615384638309479\n",
      "Phone 1: 2239271999, Phone 2: 001-962-434-0867x649, Jaccard Similarity: 0.4545454680919647\n",
      "Phone 1: 4500370767, Phone 2: 001-508-064-6725x017, Jaccard Similarity: 0.4545454680919647\n",
      "Phone 1: (669)384-8597x8794, Phone 2: 506.731.5952x571, Jaccard Similarity: 0.4000000059604645\n",
      "Phone 1: 001-171-716-2175x310, Phone 2: 888.625.0654, Jaccard Similarity: 0.3333333432674408\n",
      "Phone 1: 020.324.2191x2022, Phone 2: 424-157-8216, Jaccard Similarity: 0.23076923191547394\n",
      "Phone 1: 846.468.6834x611, Phone 2: 001-248-691-0006, Jaccard Similarity: 0.3636363744735718\n",
      "Phone 1: 423.098.0315x8373, Phone 2: +1-386-458-8944x15194, Jaccard Similarity: 0.5\n",
      "Phone 1: +1-235-657-1073x6306, Phone 2: (026)401-7353x2417, Jaccard Similarity: 0.692307710647583\n",
      "Phone 1: 981-544-9452, Phone 2: +1-288-552-4666x060, Jaccard Similarity: 0.5454545617103577\n",
      "Phone 1: +1-158-951-4131x53578, Phone 2: 001-673-779-6713x680, Jaccard Similarity: 0.5833333134651184\n",
      "Phone 1: 497.829.9038, Phone 2: 3863743398, Jaccard Similarity: 0.5555555820465088\n",
      "Phone 1: 001-215-801-6392x46009, Phone 2: 027-609-6460, Jaccard Similarity: 0.5\n",
      "Phone 1: (585)606-2980x2258, Phone 2: 730-797-3594x5614, Jaccard Similarity: 0.4285714328289032\n",
      "Phone 1: 027.846.3705x14184, Phone 2: +1-439-171-1846x4636, Jaccard Similarity: 0.5\n",
      "Phone 1: 6977745822, Phone 2: 855-436-7641, Jaccard Similarity: 0.5\n",
      "Phone 1: 078-900-4760x76668, Phone 2: 414-112-8700x68751, Jaccard Similarity: 0.6363636255264282\n",
      "Phone 1: 581-440-6539, Phone 2: 9857827463, Jaccard Similarity: 0.5454545617103577\n",
      "Phone 1: 001-927-965-8550x92406, Phone 2: 001-243-038-4271x53076, Jaccard Similarity: 0.8333333134651184\n",
      "Phone 1: 874.617.5668x69878, Phone 2: (399)820-6418x0071, Jaccard Similarity: 0.46666666865348816\n",
      "Phone 1: 001-469-848-0724x4407, Phone 2: 001-085-360-4426x00357, Jaccard Similarity: 0.75\n",
      "Phone 1: +1-768-182-6014x14336, Phone 2: (303)961-4491, Jaccard Similarity: 0.4285714328289032\n",
      "Phone 1: (050)136-9025, Phone 2: 001-480-851-2496x0157, Jaccard Similarity: 0.5\n",
      "Phone 1: 5040771311, Phone 2: 684-682-0021x1326, Jaccard Similarity: 0.3636363744735718\n",
      "Phone 1: 007.155.3406x553, Phone 2: +1-809-862-5566x277, Jaccard Similarity: 0.4285714328289032\n",
      "Phone 1: (690)068-4641x51468, Phone 2: 555.509.8691x2329, Jaccard Similarity: 0.5\n",
      "Phone 1: 629.198.6346, Phone 2: 075.256.0829, Jaccard Similarity: 0.4545454680919647\n",
      "Phone 1: (733)910-9968, Phone 2: (691)247-4128x0665, Jaccard Similarity: 0.6428571343421936\n",
      "Phone 1: (733)833-6754, Phone 2: 001-761-013-7121, Jaccard Similarity: 0.3333333432674408\n",
      "Phone 1: 8275702958, Phone 2: (804)842-4715, Jaccard Similarity: 0.4545454680919647\n",
      "Phone 1: 001-439-242-4986x7918, Phone 2: 3162708934, Jaccard Similarity: 0.8181818127632141\n",
      "Phone 1: 128-059-0206x60217, Phone 2: (312)164-4545x2284, Jaccard Similarity: 0.5\n",
      "Phone 1: (636)544-7783x7288, Phone 2: (203)287-1003x5932, Jaccard Similarity: 0.6428571343421936\n",
      "Phone 1: 365-273-8144, Phone 2: 053-308-7653x6287, Jaccard Similarity: 0.6363636255264282\n",
      "Phone 1: 114-854-1159x555, Phone 2: 499-608-4612, Jaccard Similarity: 0.5\n",
      "Phone 1: 679.415.1210, Phone 2: 945-842-3659x4581, Jaccard Similarity: 0.4615384638309479\n",
      "Phone 1: 053-344-3205, Phone 2: +1-330-920-5422x571, Jaccard Similarity: 0.5454545617103577\n",
      "Phone 1: +1-822-569-0302, Phone 2: 001-626-114-5844x55073, Jaccard Similarity: 0.6153846383094788\n",
      "Phone 1: 404-645-5351x012, Phone 2: 001-257-582-8850x8516, Jaccard Similarity: 0.6363636255264282\n",
      "Phone 1: 158-687-1764, Phone 2: (438)375-6207x003, Jaccard Similarity: 0.4615384638309479\n",
      "Phone 1: 001-084-845-9524x1777, Phone 2: 001-769-564-6303, Jaccard Similarity: 0.5833333134651184\n",
      "Phone 1: (188)169-1674x58692, Phone 2: 001-841-293-3519x614, Jaccard Similarity: 0.6428571343421936\n",
      "Phone 1: +1-846-706-2218, Phone 2: 605.413.3198, Jaccard Similarity: 0.38461539149284363\n",
      "Phone 1: +1-753-067-8419x7170, Phone 2: +1-632-666-7507x92121, Jaccard Similarity: 0.7692307829856873\n",
      "Phone 1: (530)311-9786, Phone 2: 001-869-452-0943x12424, Jaccard Similarity: 0.5714285969734192\n",
      "Phone 1: (753)813-6941, Phone 2: 783.639.1472, Jaccard Similarity: 0.5384615659713745\n"
     ]
    }
   ],
   "source": [
    "results = df_with_jaccard.collect()\n",
    "\n",
    "for row in results:\n",
    "    phone1 = row['Phone 1']\n",
    "    phone2 = row['Phone 2']\n",
    "    similarity = row['Jaccard Similarity']\n",
    "    print(f\"Phone 1: {phone1}, Phone 2: {phone2}, Jaccard Similarity: {similarity}\")"
   ]
  },
  {
   "cell_type": "markdown",
   "metadata": {},
   "source": [
    "## Q3"
   ]
  },
  {
   "cell_type": "code",
   "execution_count": 16,
   "metadata": {},
   "outputs": [
    {
     "name": "stdout",
     "output_type": "stream",
     "text": [
      "Precision: 0.6666666666666666\n",
      "Recall: 0.5\n",
      "F1-Score: 0.6190476190476191\n"
     ]
    }
   ],
   "source": [
    "from pyspark.sql import SparkSession\n",
    "from pyspark.sql.functions import col\n",
    "from pyspark.ml.evaluation import MulticlassClassificationEvaluator\n",
    "from pyspark.sql.types import DoubleType\n",
    "\n",
    "# Initialize SparkSession\n",
    "spark = SparkSession.builder \\\n",
    "    .appName(\"EntityResolutionEvaluation\") \\\n",
    "    .getOrCreate()\n",
    "\n",
    "# Sample data for true and predicted labels\n",
    "data = [\n",
    "    (0, 0),\n",
    "    (0, 1),\n",
    "    (1, 1),\n",
    "    (1, 0),\n",
    "    (1, 1),\n",
    "    (0, 0),\n",
    "    (1, 1),\n",
    "    (0, 1)\n",
    "]\n",
    "\n",
    "# Create a DataFrame\n",
    "df = spark.createDataFrame(data, [\"true_label\", \"predicted_label\"])\n",
    "\n",
    "# Convert columns to DoubleType\n",
    "df = df.withColumn(\"true_label\", col(\"true_label\").cast(DoubleType()))\n",
    "df = df.withColumn(\"predicted_label\", col(\"predicted_label\").cast(DoubleType()))\n",
    "\n",
    "# Initialize evaluator\n",
    "evaluator = MulticlassClassificationEvaluator(\n",
    "    labelCol=\"true_label\",\n",
    "    predictionCol=\"predicted_label\"\n",
    ")\n",
    "\n",
    "# Calculate Precision\n",
    "precision = evaluator.setMetricName(\"precisionByLabel\").evaluate(df)\n",
    "print(f\"Precision: {precision}\")\n",
    "\n",
    "# Calculate Recall\n",
    "recall = evaluator.setMetricName(\"recallByLabel\").evaluate(df)\n",
    "print(f\"Recall: {recall}\")\n",
    "\n",
    "# Calculate F1-Score\n",
    "f1_score = evaluator.setMetricName(\"f1\").evaluate(df)\n",
    "print(f\"F1-Score: {f1_score}\")\n",
    "\n",
    "# Stop SparkSession\n",
    "spark.stop()\n"
   ]
  }
 ],
 "metadata": {
  "kernelspec": {
   "display_name": "Python 3 (ipykernel)",
   "language": "python",
   "name": "python3"
  },
  "language_info": {
   "codemirror_mode": {
    "name": "ipython",
    "version": 3
   },
   "file_extension": ".py",
   "mimetype": "text/x-python",
   "name": "python",
   "nbconvert_exporter": "python",
   "pygments_lexer": "ipython3",
   "version": "3.7.0"
  }
 },
 "nbformat": 4,
 "nbformat_minor": 2
}
