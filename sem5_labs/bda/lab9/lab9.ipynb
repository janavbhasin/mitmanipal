{
 "cells": [
  {
   "cell_type": "code",
   "execution_count": 11,
   "id": "d50cd193",
   "metadata": {},
   "outputs": [
    {
     "name": "stderr",
     "output_type": "stream",
     "text": [
      "/home/lplab/anaconda3/lib/python3.7/site-packages/pyspark/context.py:317: FutureWarning: Python 3.7 support is deprecated in Spark 3.4.\n",
      "  warnings.warn(\"Python 3.7 support is deprecated in Spark 3.4.\", FutureWarning)\n"
     ]
    },
    {
     "name": "stdout",
     "output_type": "stream",
     "text": [
      "Estimated value of π: 3.145888\n"
     ]
    }
   ],
   "source": [
    "from pyspark.sql import SparkSession\n",
    "from pyspark.sql import functions as F\n",
    "import random\n",
    "import math\n",
    "import numpy as np\n",
    "spark = SparkSession.builder \\\n",
    "    .appName(\"Monte Carlo Simulation\") \\\n",
    "    .getOrCreate()\n",
    "num_samples = 1000000\n",
    "def monte_carlo_pi(samples):\n",
    "    inside_circle = sum(1 for _ in range(samples) if (random.random() ** 2 + random.random() ** 2) <= 1)\n",
    "    return inside_circle\n",
    "num_partitions=10\n",
    "samples_per_partition = num_samples // num_partitions\n",
    "results_rdd = spark.sparkContext.parallelize([samples_per_partition] * num_partitions)\n",
    "inside_circle_counts = results_rdd.map(monte_carlo_pi)\n",
    "total_inside_circle = inside_circle_counts.reduce(lambda x, y: x + y)\n",
    "pi_estimate = (total_inside_circle / num_samples) * 4\n",
    "print(f\"Estimated value of π: {pi_estimate}\")"
   ]
  },
  {
   "cell_type": "code",
   "execution_count": 12,
   "id": "f8067e3f",
   "metadata": {},
   "outputs": [
    {
     "name": "stdout",
     "output_type": "stream",
     "text": [
      "Estimated value of π with Normal distribution: 1.5652\n"
     ]
    }
   ],
   "source": [
    "def monte_carlo_pi_normal(samples, mean=0.0, stddev=1.0):\n",
    "    inside_circle = sum(1 for _ in range(samples) if (np.random.normal(mean, stddev) ** 2 + np.random.normal(mean, stddev) ** 2) <= 1)\n",
    "    return inside_circle\n",
    "results_rdd_normal = spark.sparkContext.parallelize([samples_per_partition] * num_partitions)\n",
    "inside_circle_counts_normal = results_rdd_normal.map(lambda x: monte_carlo_pi_normal(x, mean=0, stddev=1))\n",
    "total_inside_circle_normal = inside_circle_counts_normal.reduce(lambda x, y: x + y)\n",
    "pi_estimate_normal = (total_inside_circle_normal / num_samples) * 4\n",
    "print(f\"Estimated value of π with Normal distribution: {pi_estimate_normal}\")\n",
    "spark.stop()"
   ]
  },
  {
   "cell_type": "code",
   "execution_count": null,
   "id": "d32bee0e",
   "metadata": {},
   "outputs": [],
   "source": []
  }
 ],
 "metadata": {
  "kernelspec": {
   "display_name": "Python 3 (ipykernel)",
   "language": "python",
   "name": "python3"
  },
  "language_info": {
   "codemirror_mode": {
    "name": "ipython",
    "version": 3
   },
   "file_extension": ".py",
   "mimetype": "text/x-python",
   "name": "python",
   "nbconvert_exporter": "python",
   "pygments_lexer": "ipython3",
   "version": "3.7.0"
  }
 },
 "nbformat": 4,
 "nbformat_minor": 5
}
