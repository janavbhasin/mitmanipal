{
 "cells": [
  {
   "cell_type": "code",
   "execution_count": 21,
   "id": "d5633812",
   "metadata": {},
   "outputs": [
    {
     "name": "stdout",
     "output_type": "stream",
     "text": [
      "+-----------+----------+--------------------+--------------------+-----+--------------------+----------+--------------+\n",
      "|helpfulness|product_id|        profile_name|              review|score|             summary|      time|       user_id|\n",
      "+-----------+----------+--------------------+--------------------+-----+--------------------+----------+--------------+\n",
      "|        7/7|B003AI2VGA|Brian E. Erland \"...|Synopsis: On the ...|  3.0|\"There Is So Much...|1182729600|A141HP4LYPWMSR|\n",
      "|        4/4|B003AI2VGA|          Grady Harp|THE VIRGIN OF JUA...|  3.0|Worthwhile and Im...|1181952000|A328S9RN3U5M68|\n",
      "|       8/10|B003AI2VGA|Chrissy K. McVay ...|The scenes in thi...|  5.0|This movie needed...|1164844800|A1I7QGUDP043DG|\n",
      "+-----------+----------+--------------------+--------------------+-----+--------------------+----------+--------------+\n",
      "only showing top 3 rows\n",
      "\n"
     ]
    }
   ],
   "source": [
    "from pyspark.sql import SparkSession\n",
    "from pyspark.ml.feature import StringIndexer\n",
    "from pyspark.ml.recommendation import ALS\n",
    "from pyspark.ml.evaluation import RegressionEvaluator\n",
    "from pyspark.sql.functions import col,expr\n",
    "spark = SparkSession.builder \\\n",
    "    .appName(\"Load CSV Example\") \\\n",
    "    .getOrCreate()\n",
    "df = spark.read.json('/home/lplab/Desktop/janav_220962049/movies 1.json')\n",
    "df.show(3)"
   ]
  },
  {
   "cell_type": "code",
   "execution_count": 22,
   "id": "8d1d4db0",
   "metadata": {},
   "outputs": [
    {
     "name": "stdout",
     "output_type": "stream",
     "text": [
      "+-----------+----------+--------------------+--------------------+-----+--------------------+----------+--------------+---------+------------+\n",
      "|helpfulness|product_id|        profile_name|              review|score|             summary|      time|       user_id|userIndex|productIndex|\n",
      "+-----------+----------+--------------------+--------------------+-----+--------------------+----------+--------------+---------+------------+\n",
      "|        7/7|B003AI2VGA|Brian E. Erland \"...|Synopsis: On the ...|  3.0|\"There Is So Much...|1182729600|A141HP4LYPWMSR|     32.0|       731.0|\n",
      "|        4/4|B003AI2VGA|          Grady Harp|THE VIRGIN OF JUA...|  3.0|Worthwhile and Im...|1181952000|A328S9RN3U5M68|      3.0|       731.0|\n",
      "|       8/10|B003AI2VGA|Chrissy K. McVay ...|The scenes in thi...|  5.0|This movie needed...|1164844800|A1I7QGUDP043DG|    312.0|       731.0|\n",
      "+-----------+----------+--------------------+--------------------+-----+--------------------+----------+--------------+---------+------------+\n",
      "only showing top 3 rows\n",
      "\n"
     ]
    }
   ],
   "source": [
    "from pyspark.sql import SparkSession\n",
    "from pyspark.sql.functions import udf, col\n",
    "from pyspark.sql.types import IntegerType\n",
    "user_indexer = StringIndexer(inputCol=\"user_id\", outputCol=\"userIndex\",handleInvalid=\"keep\")\n",
    "df = user_indexer.fit(df).transform(df)\n",
    "\n",
    "\n",
    "product_indexer = StringIndexer(inputCol=\"product_id\", outputCol=\"productIndex\", handleInvalid=\"keep\")\n",
    "df = product_indexer.fit(df).transform(df)\n",
    "df.show(3)\n",
    "df = df.select(\n",
    "    col(\"userIndex\").alias(\"userId\"),\n",
    "    col(\"productIndex\").alias(\"itemId\"),\n",
    "    col(\"score\").alias(\"rating\")\n",
    ")"
   ]
  },
  {
   "cell_type": "code",
   "execution_count": 24,
   "id": "3d8e1d5f",
   "metadata": {},
   "outputs": [
    {
     "name": "stdout",
     "output_type": "stream",
     "text": [
      "+------+------+------+------------+\n",
      "|userId|itemId|rating|  prediction|\n",
      "+------+------+------+------------+\n",
      "|1238.0|  63.0|   4.0| -0.96577525|\n",
      "|2366.0|  21.0|   4.0|   3.9407632|\n",
      "|3997.0|  21.0|   2.0|   1.9703816|\n",
      "| 540.0|   7.0|   5.0|   0.4127052|\n",
      "|4161.0|  63.0|   5.0|-0.046322126|\n",
      "|1339.0| 680.0|   4.0|  -0.6463967|\n",
      "|2393.0|  21.0|   5.0|    4.925954|\n",
      "| 451.0|   6.0|   5.0|   0.9437881|\n",
      "|2525.0|  37.0|   5.0|  0.36404803|\n",
      "|2833.0|  21.0|   1.0|   0.9851908|\n",
      "|  53.0|  37.0|   1.0|   3.9476726|\n",
      "|1005.0|   7.0|   1.0|  0.99807584|\n",
      "|1005.0|   7.0|   1.0|  0.99807584|\n",
      "|1005.0|   7.0|   1.0|  0.99807584|\n",
      "|1133.0|   7.0|   5.0|  0.15591462|\n",
      "|3577.0| 303.0|   3.0|   3.0138671|\n",
      "|1212.0|   6.0|   4.0|   1.4729717|\n",
      "|4182.0|  85.0|   3.0|  -1.7397054|\n",
      "| 108.0|  37.0|   4.0|   2.4454935|\n",
      "|4452.0|  85.0|   4.0|   1.2296405|\n",
      "+------+------+------+------------+\n",
      "only showing top 20 rows\n",
      "\n"
     ]
    }
   ],
   "source": [
    "(training_data, test_data) = df.randomSplit([0.6, 0.4])\n",
    "als = ALS(\n",
    "    maxIter=10,\n",
    "    regParam=0.01,\n",
    "    userCol=\"userId\",\n",
    "    itemCol=\"itemId\",\n",
    "    ratingCol=\"rating\",\n",
    "    coldStartStrategy=\"drop\"\n",
    ")\n",
    "model = als.fit(training_data)\n",
    "predictions = model.transform(test_data)\n",
    "predictions.show()"
   ]
  },
  {
   "cell_type": "code",
   "execution_count": 26,
   "id": "83aeeb24",
   "metadata": {},
   "outputs": [
    {
     "name": "stdout",
     "output_type": "stream",
     "text": [
      "Root Mean Squared Error (RMSE): 1.8611114155543285\n"
     ]
    }
   ],
   "source": [
    "test_df = df  # This is a placeholder; replace with actual test data if available\n",
    "\n",
    "# Predict on test data\n",
    "predictions = model.transform(test_df)\n",
    "\n",
    "# Initialize evaluator\n",
    "evaluator = RegressionEvaluator(\n",
    "    metricName=\"rmse\",\n",
    "    labelCol=\"rating\",\n",
    "    predictionCol=\"prediction\"\n",
    ")\n",
    "\n",
    "# Calculate RMSE\n",
    "rmse = evaluator.evaluate(predictions)\n",
    "print(f\"Root Mean Squared Error (RMSE): {rmse}\")"
   ]
  }
 ],
 "metadata": {
  "kernelspec": {
   "display_name": "Python 3 (ipykernel)",
   "language": "python",
   "name": "python3"
  },
  "language_info": {
   "codemirror_mode": {
    "name": "ipython",
    "version": 3
   },
   "file_extension": ".py",
   "mimetype": "text/x-python",
   "name": "python",
   "nbconvert_exporter": "python",
   "pygments_lexer": "ipython3",
   "version": "3.7.0"
  }
 },
 "nbformat": 4,
 "nbformat_minor": 5
}
