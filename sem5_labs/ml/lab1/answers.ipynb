{
 "cells": [
  {
   "cell_type": "code",
   "execution_count": 34,
   "id": "26864089",
   "metadata": {},
   "outputs": [],
   "source": [
    "import numpy as np\n",
    "import random"
   ]
  },
  {
   "cell_type": "code",
   "execution_count": 5,
   "id": "e731d442",
   "metadata": {},
   "outputs": [
    {
     "data": {
      "text/plain": [
       "array([[0, 1, 2],\n",
       "       [3, 4, 5],\n",
       "       [6, 7, 8]])"
      ]
     },
     "execution_count": 5,
     "metadata": {},
     "output_type": "execute_result"
    }
   ],
   "source": [
    "Assign1 = np.array([0, 1, 2, 3, 4, 5, 6, 7, 8])\n",
    "Assign1=np.reshape(Assign1,(3,3),'c')\n",
    "Assign1"
   ]
  },
  {
   "cell_type": "code",
   "execution_count": 9,
   "id": "010834c0",
   "metadata": {},
   "outputs": [
    {
     "data": {
      "text/plain": [
       "array([ 0, -1,  2, -1,  4, -1,  6, -1,  8, -1])"
      ]
     },
     "execution_count": 9,
     "metadata": {},
     "output_type": "execute_result"
    }
   ],
   "source": [
    "Assign2 = np.array([0, 1, 2, 3, 4, 5, 6, 7, 8, 9])\n",
    "Assign2[Assign2%2==1]=-1\n",
    "Assign2"
   ]
  },
  {
   "cell_type": "code",
   "execution_count": 20,
   "id": "a81ecdf5",
   "metadata": {},
   "outputs": [
    {
     "data": {
      "text/plain": [
       "((array([1, 2, 4, 5, 6, 7, 8, 9]),), (array([0]),))"
      ]
     },
     "execution_count": 20,
     "metadata": {},
     "output_type": "execute_result"
    }
   ],
   "source": [
    "x = np.array([21, 64, 86, 22, 74, 55, 81, 79, 90, 89]) \n",
    "y = np.array([21, 7, 3, 45, 10, 29, 55, 4, 37, 18])\n",
    "desired1=np.where(x>y)\n",
    "desired2=np.where(x==y)\n",
    "desired1,desired2"
   ]
  },
  {
   "cell_type": "code",
   "execution_count": 30,
   "id": "1151143d",
   "metadata": {},
   "outputs": [
    {
     "data": {
      "text/plain": [
       "array([[ 0,  1,  2,  3],\n",
       "       [20, 21, 22, 23],\n",
       "       [40, 41, 42, 43],\n",
       "       [60, 61, 62, 63],\n",
       "       [80, 81, 82, 83]])"
      ]
     },
     "execution_count": 30,
     "metadata": {},
     "output_type": "execute_result"
    }
   ],
   "source": [
    "Assign4= np.arange(100).reshape(5,-1)\n",
    "Assign4[:,:4]"
   ]
  },
  {
   "cell_type": "code",
   "execution_count": 49,
   "id": "86c7dc5d",
   "metadata": {},
   "outputs": [
    {
     "data": {
      "text/plain": [
       "array([36, 37, 38, 36, 35, 39, 34, 38, 37, 34])"
      ]
     },
     "execution_count": 49,
     "metadata": {},
     "output_type": "execute_result"
    }
   ],
   "source": [
    "np.random.randint(low=30,high=41,size=10,dtype=int)"
   ]
  },
  {
   "cell_type": "code",
   "execution_count": 89,
   "id": "c666ab5d",
   "metadata": {},
   "outputs": [
    {
     "data": {
      "text/plain": [
       "(array([[ 8, 10, 13],\n",
       "        [ 8, 10, 12],\n",
       "        [ 8, 10, 13]]),\n",
       " array([[-6, -6, -7],\n",
       "        [ 0,  0,  0],\n",
       "        [ 6,  6,  7]]))"
      ]
     },
     "execution_count": 89,
     "metadata": {},
     "output_type": "execute_result"
    }
   ],
   "source": [
    "A=np.array([[1, 2, 3], [4, 5, 6], [7, 8, 10]])\n",
    "B=np.array([[7, 8, 10] ,[4, 5, 6], [1, 2, 3]])\n",
    "C=A+B\n",
    "E=A-B\n",
    "C,E"
   ]
  },
  {
   "cell_type": "code",
   "execution_count": 90,
   "id": "eb3a8120",
   "metadata": {},
   "outputs": [
    {
     "data": {
      "text/plain": [
       "(46, array([12, 15, 19]), array([31, 30, 31]))"
      ]
     },
     "execution_count": 90,
     "metadata": {},
     "output_type": "execute_result"
    }
   ],
   "source": [
    "np.sum(A),np.sum(B,axis=0),np.sum(C,axis=1)"
   ]
  },
  {
   "cell_type": "code",
   "execution_count": 91,
   "id": "9983ead7",
   "metadata": {},
   "outputs": [
    {
     "data": {
      "text/plain": [
       "array([[ 18,  24,  31],\n",
       "       [ 54,  69,  88],\n",
       "       [ 91, 116, 148]])"
      ]
     },
     "execution_count": 91,
     "metadata": {},
     "output_type": "execute_result"
    }
   ],
   "source": [
    "D=A@B\n",
    "D"
   ]
  },
  {
   "cell_type": "code",
   "execution_count": 92,
   "id": "2404cb4c",
   "metadata": {},
   "outputs": [],
   "source": [
    "E=np.reshape(C,(9),'c')\n",
    "E.sort()"
   ]
  },
  {
   "cell_type": "code",
   "execution_count": 98,
   "id": "e7800104",
   "metadata": {},
   "outputs": [
    {
     "data": {
      "text/plain": [
       "array([[ 8,  8,  8],\n",
       "       [10, 10, 10],\n",
       "       [12, 13, 13]])"
      ]
     },
     "execution_count": 98,
     "metadata": {},
     "output_type": "execute_result"
    }
   ],
   "source": [
    "E=E.reshape((3,3))\n",
    "E"
   ]
  },
  {
   "cell_type": "code",
   "execution_count": 99,
   "id": "d6001b82",
   "metadata": {},
   "outputs": [
    {
     "data": {
      "text/plain": [
       "array([[ 8, 10, 12],\n",
       "       [ 8, 10, 13],\n",
       "       [ 8, 10, 13]])"
      ]
     },
     "execution_count": 99,
     "metadata": {},
     "output_type": "execute_result"
    }
   ],
   "source": [
    "E.transpose()"
   ]
  },
  {
   "cell_type": "code",
   "execution_count": null,
   "id": "7986e27a",
   "metadata": {},
   "outputs": [],
   "source": []
  }
 ],
 "metadata": {
  "kernelspec": {
   "display_name": "Python 3 (ipykernel)",
   "language": "python",
   "name": "python3"
  },
  "language_info": {
   "codemirror_mode": {
    "name": "ipython",
    "version": 3
   },
   "file_extension": ".py",
   "mimetype": "text/x-python",
   "name": "python",
   "nbconvert_exporter": "python",
   "pygments_lexer": "ipython3",
   "version": "3.12.3"
  }
 },
 "nbformat": 4,
 "nbformat_minor": 5
}
