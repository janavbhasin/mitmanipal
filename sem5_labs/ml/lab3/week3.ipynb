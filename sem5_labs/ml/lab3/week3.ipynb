{
 "cells": [
  {
   "cell_type": "code",
   "execution_count": 152,
   "id": "b90d4d75",
   "metadata": {},
   "outputs": [],
   "source": [
    "import pandas as pd\n",
    "import numpy as np\n",
    "df1 = pd.read_csv('/home/ustudent/Desktop/220962049_aiml_a1/lab3/hepatitis_csv.csv')\n",
    "df=df1"
   ]
  },
  {
   "cell_type": "markdown",
   "id": "bb6f05b1",
   "metadata": {},
   "source": [
    "# Q1"
   ]
  },
  {
   "cell_type": "code",
   "execution_count": 153,
   "id": "3f94c681",
   "metadata": {},
   "outputs": [
    {
     "name": "stdout",
     "output_type": "stream",
     "text": [
      "age 0\n",
      "sex 0\n",
      "steroid 1\n",
      "antivirals 0\n",
      "fatigue 1\n",
      "malaise 1\n",
      "anorexia 1\n",
      "liver_big 10\n",
      "liver_firm 11\n",
      "spleen_palpable 5\n",
      "spiders 5\n",
      "ascites 5\n",
      "varices 5\n",
      "bilirubin 6\n",
      "alk_phosphate 29\n",
      "sgot 4\n",
      "albumin 16\n",
      "protime 67\n",
      "histology 0\n",
      "class 0\n"
     ]
    }
   ],
   "source": [
    "for x in df.columns:\n",
    "    print(x,df[x].isna().sum())"
   ]
  },
  {
   "cell_type": "code",
   "execution_count": 154,
   "id": "f1b0a1d7",
   "metadata": {},
   "outputs": [],
   "source": [
    "df['sex'] = df['sex'].replace({'male': 1, 'female': 0})"
   ]
  },
  {
   "cell_type": "code",
   "execution_count": 155,
   "id": "5600b012",
   "metadata": {},
   "outputs": [],
   "source": [
    "columns_list = ['steroid','antivirals','fatigue','malaise','anorexia','liver_big','liver_firm','spleen_palpable','spiders','ascites','varices','histology']\n",
    "for x in columns_list:\n",
    "    df[x] = df[x].replace({True: 1, False: 0})"
   ]
  },
  {
   "cell_type": "code",
   "execution_count": 156,
   "id": "9a2302bd",
   "metadata": {},
   "outputs": [],
   "source": [
    "df['class']=df['class'].replace({'live':1,'die':0})"
   ]
  },
  {
   "cell_type": "code",
   "execution_count": 157,
   "id": "c9ba3b1e",
   "metadata": {},
   "outputs": [],
   "source": [
    "df.drop(columns=['protime'],inplace=True)"
   ]
  },
  {
   "cell_type": "code",
   "execution_count": 158,
   "id": "128dc25a",
   "metadata": {},
   "outputs": [
    {
     "name": "stdout",
     "output_type": "stream",
     "text": [
      "age 0\n",
      "sex 0\n",
      "steroid 1\n",
      "antivirals 0\n",
      "fatigue 1\n",
      "malaise 1\n",
      "anorexia 1\n",
      "liver_big 10\n",
      "liver_firm 11\n",
      "spleen_palpable 5\n",
      "spiders 5\n",
      "ascites 5\n",
      "varices 5\n",
      "bilirubin 6\n",
      "alk_phosphate 29\n",
      "sgot 4\n",
      "albumin 16\n",
      "histology 0\n",
      "class 0\n"
     ]
    }
   ],
   "source": [
    "for x in df.columns:\n",
    "    print(x,df[x].isna().sum())"
   ]
  },
  {
   "cell_type": "code",
   "execution_count": 159,
   "id": "2e4fe89e",
   "metadata": {},
   "outputs": [
    {
     "name": "stdout",
     "output_type": "stream",
     "text": [
      "                      age       sex   steroid  antivirals   fatigue   malaise  \\\n",
      "age              1.000000  0.008126 -0.085732    0.013100  0.282223  0.115236   \n",
      "sex              0.008126  1.000000 -0.046989    0.089249  0.071822  0.028820   \n",
      "steroid         -0.085732 -0.046989  1.000000   -0.060101 -0.164326 -0.242942   \n",
      "antivirals       0.013100  0.089249 -0.060101    1.000000 -0.059445 -0.018540   \n",
      "fatigue          0.282223  0.071822 -0.164326   -0.059445  1.000000  0.595142   \n",
      "malaise          0.115236  0.028820 -0.242942   -0.018540  0.595142  1.000000   \n",
      "anorexia        -0.090394 -0.017030 -0.074380   -0.043552  0.376350  0.599647   \n",
      "liver_big       -0.105480 -0.072336  0.214488   -0.042350 -0.112892 -0.057090   \n",
      "liver_firm       0.109382  0.059761 -0.086463    0.075593  0.272435  0.118382   \n",
      "spleen_palpable  0.074853  0.055556 -0.077071   -0.172756  0.195256  0.013690   \n",
      "spiders          0.179997  0.042220 -0.028675   -0.159695  0.383333  0.325979   \n",
      "ascites          0.066220 -0.130744  0.031453   -0.171184  0.289931  0.332910   \n",
      "varices          0.048893 -0.054707  0.074925   -0.161165  0.187125  0.170193   \n",
      "bilirubin        0.125463 -0.056349 -0.050240   -0.185023  0.278918  0.299602   \n",
      "alk_phosphate    0.008924  0.074243 -0.040164   -0.205236  0.165744  0.215880   \n",
      "sgot             0.082545 -0.017652 -0.042458   -0.108138  0.202089  0.205128   \n",
      "albumin         -0.262981  0.005828  0.228148    0.170074 -0.328319 -0.307685   \n",
      "histology        0.170780 -0.137450 -0.090109   -0.209242  0.151556  0.140592   \n",
      "class           -0.219647  0.173051  0.134700    0.130196 -0.309269 -0.337859   \n",
      "\n",
      "                 anorexia  liver_big  liver_firm  spleen_palpable   spiders  \\\n",
      "age             -0.090394  -0.105480    0.109382         0.074853  0.179997   \n",
      "sex             -0.017030  -0.072336    0.059761         0.055556  0.042220   \n",
      "steroid         -0.074380   0.214488   -0.086463        -0.077071 -0.028675   \n",
      "antivirals      -0.043552  -0.042350    0.075593        -0.172756 -0.159695   \n",
      "fatigue          0.376350  -0.112892    0.272435         0.195256  0.383333   \n",
      "malaise          0.599647  -0.057090    0.118382         0.013690  0.325979   \n",
      "anorexia         1.000000  -0.091287    0.067320         0.041667  0.309614   \n",
      "liver_big       -0.091287   1.000000   -0.467950        -0.099083 -0.220389   \n",
      "liver_firm       0.067320  -0.467950    1.000000         0.187541  0.355901   \n",
      "spleen_palpable  0.041667  -0.099083    0.187541         1.000000  0.274430   \n",
      "spiders          0.309614  -0.220389    0.355901         0.274430  1.000000   \n",
      "ascites          0.196116   0.110876    0.037966         0.098058  0.298081   \n",
      "varices          0.174380   0.062366    0.189999         0.225668  0.384573   \n",
      "bilirubin        0.303109  -0.002392    0.060703         0.220918  0.292789   \n",
      "alk_phosphate    0.181680  -0.130565    0.356068         0.287592  0.301574   \n",
      "sgot             0.238408   0.043023    0.138305         0.002040  0.121296   \n",
      "albumin         -0.163661  -0.057578   -0.199022        -0.244432 -0.319635   \n",
      "histology        0.078895  -0.072269    0.191663         0.207331  0.354094   \n",
      "class           -0.132172  -0.077630   -0.063155        -0.238734 -0.398308   \n",
      "\n",
      "                  ascites   varices  bilirubin  alk_phosphate      sgot  \\\n",
      "age              0.066220  0.048893   0.125463       0.008924  0.082545   \n",
      "sex             -0.130744 -0.054707  -0.056349       0.074243 -0.017652   \n",
      "steroid          0.031453  0.074925  -0.050240      -0.040164 -0.042458   \n",
      "antivirals      -0.171184 -0.161165  -0.185023      -0.205236 -0.108138   \n",
      "fatigue          0.289931  0.187125   0.278918       0.165744  0.202089   \n",
      "malaise          0.332910  0.170193   0.299602       0.215880  0.205128   \n",
      "anorexia         0.196116  0.174380   0.303109       0.181680  0.238408   \n",
      "liver_big        0.110876  0.062366  -0.002392      -0.130565  0.043023   \n",
      "liver_firm       0.037966  0.189999   0.060703       0.356068  0.138305   \n",
      "spleen_palpable  0.098058  0.225668   0.220918       0.287592  0.002040   \n",
      "spiders          0.298081  0.384573   0.292789       0.301574  0.121296   \n",
      "ascites          1.000000  0.337963   0.304034       0.145667 -0.020863   \n",
      "varices          0.337963  1.000000   0.405719       0.307588  0.030698   \n",
      "bilirubin        0.304034  0.405719   1.000000       0.220062  0.232967   \n",
      "alk_phosphate    0.145667  0.307588   0.220062       1.000000  0.239581   \n",
      "sgot            -0.020863  0.030698   0.232967       0.239581  1.000000   \n",
      "albumin         -0.549335 -0.356660  -0.377318      -0.403857 -0.136276   \n",
      "histology        0.346274  0.358936   0.262428       0.284914  0.131125   \n",
      "class           -0.477882 -0.368846  -0.463752      -0.161204 -0.077678   \n",
      "\n",
      "                  albumin  histology     class  \n",
      "age             -0.262981   0.170780 -0.219647  \n",
      "sex              0.005828  -0.137450  0.173051  \n",
      "steroid          0.228148  -0.090109  0.134700  \n",
      "antivirals       0.170074  -0.209242  0.130196  \n",
      "fatigue         -0.328319   0.151556 -0.309269  \n",
      "malaise         -0.307685   0.140592 -0.337859  \n",
      "anorexia        -0.163661   0.078895 -0.132172  \n",
      "liver_big       -0.057578  -0.072269 -0.077630  \n",
      "liver_firm      -0.199022   0.191663 -0.063155  \n",
      "spleen_palpable -0.244432   0.207331 -0.238734  \n",
      "spiders         -0.319635   0.354094 -0.398308  \n",
      "ascites         -0.549335   0.346274 -0.477882  \n",
      "varices         -0.356660   0.358936 -0.368846  \n",
      "bilirubin       -0.377318   0.262428 -0.463752  \n",
      "alk_phosphate   -0.403857   0.284914 -0.161204  \n",
      "sgot            -0.136276   0.131125 -0.077678  \n",
      "albumin          1.000000  -0.324751  0.503272  \n",
      "histology       -0.324751   1.000000 -0.337856  \n",
      "class            0.503272  -0.337856  1.000000  \n"
     ]
    }
   ],
   "source": [
    "correlation_matrix = df.corr()\n",
    "print(correlation_matrix)"
   ]
  },
  {
   "cell_type": "code",
   "execution_count": 160,
   "id": "0f8694a0",
   "metadata": {},
   "outputs": [
    {
     "data": {
      "text/html": [
       "<div>\n",
       "<style scoped>\n",
       "    .dataframe tbody tr th:only-of-type {\n",
       "        vertical-align: middle;\n",
       "    }\n",
       "\n",
       "    .dataframe tbody tr th {\n",
       "        vertical-align: top;\n",
       "    }\n",
       "\n",
       "    .dataframe thead th {\n",
       "        text-align: right;\n",
       "    }\n",
       "</style>\n",
       "<table border=\"1\" class=\"dataframe\">\n",
       "  <thead>\n",
       "    <tr style=\"text-align: right;\">\n",
       "      <th></th>\n",
       "      <th>age</th>\n",
       "      <th>fatigue</th>\n",
       "      <th>spiders</th>\n",
       "      <th>albumin</th>\n",
       "      <th>histology</th>\n",
       "      <th>class</th>\n",
       "    </tr>\n",
       "  </thead>\n",
       "  <tbody>\n",
       "    <tr>\n",
       "      <th>0</th>\n",
       "      <td>30</td>\n",
       "      <td>0.0</td>\n",
       "      <td>0.0</td>\n",
       "      <td>4.0</td>\n",
       "      <td>0</td>\n",
       "      <td>1</td>\n",
       "    </tr>\n",
       "    <tr>\n",
       "      <th>1</th>\n",
       "      <td>50</td>\n",
       "      <td>1.0</td>\n",
       "      <td>0.0</td>\n",
       "      <td>3.5</td>\n",
       "      <td>0</td>\n",
       "      <td>1</td>\n",
       "    </tr>\n",
       "    <tr>\n",
       "      <th>2</th>\n",
       "      <td>78</td>\n",
       "      <td>1.0</td>\n",
       "      <td>0.0</td>\n",
       "      <td>4.0</td>\n",
       "      <td>0</td>\n",
       "      <td>1</td>\n",
       "    </tr>\n",
       "    <tr>\n",
       "      <th>3</th>\n",
       "      <td>31</td>\n",
       "      <td>0.0</td>\n",
       "      <td>0.0</td>\n",
       "      <td>4.0</td>\n",
       "      <td>0</td>\n",
       "      <td>1</td>\n",
       "    </tr>\n",
       "    <tr>\n",
       "      <th>4</th>\n",
       "      <td>34</td>\n",
       "      <td>0.0</td>\n",
       "      <td>0.0</td>\n",
       "      <td>4.0</td>\n",
       "      <td>0</td>\n",
       "      <td>1</td>\n",
       "    </tr>\n",
       "    <tr>\n",
       "      <th>...</th>\n",
       "      <td>...</td>\n",
       "      <td>...</td>\n",
       "      <td>...</td>\n",
       "      <td>...</td>\n",
       "      <td>...</td>\n",
       "      <td>...</td>\n",
       "    </tr>\n",
       "    <tr>\n",
       "      <th>150</th>\n",
       "      <td>46</td>\n",
       "      <td>1.0</td>\n",
       "      <td>1.0</td>\n",
       "      <td>3.3</td>\n",
       "      <td>1</td>\n",
       "      <td>0</td>\n",
       "    </tr>\n",
       "    <tr>\n",
       "      <th>151</th>\n",
       "      <td>44</td>\n",
       "      <td>1.0</td>\n",
       "      <td>0.0</td>\n",
       "      <td>4.3</td>\n",
       "      <td>1</td>\n",
       "      <td>1</td>\n",
       "    </tr>\n",
       "    <tr>\n",
       "      <th>152</th>\n",
       "      <td>61</td>\n",
       "      <td>1.0</td>\n",
       "      <td>1.0</td>\n",
       "      <td>4.1</td>\n",
       "      <td>1</td>\n",
       "      <td>1</td>\n",
       "    </tr>\n",
       "    <tr>\n",
       "      <th>153</th>\n",
       "      <td>53</td>\n",
       "      <td>1.0</td>\n",
       "      <td>1.0</td>\n",
       "      <td>4.1</td>\n",
       "      <td>1</td>\n",
       "      <td>1</td>\n",
       "    </tr>\n",
       "    <tr>\n",
       "      <th>154</th>\n",
       "      <td>43</td>\n",
       "      <td>1.0</td>\n",
       "      <td>1.0</td>\n",
       "      <td>3.1</td>\n",
       "      <td>1</td>\n",
       "      <td>0</td>\n",
       "    </tr>\n",
       "  </tbody>\n",
       "</table>\n",
       "<p>155 rows × 6 columns</p>\n",
       "</div>"
      ],
      "text/plain": [
       "     age  fatigue  spiders  albumin  histology  class\n",
       "0     30      0.0      0.0      4.0          0      1\n",
       "1     50      1.0      0.0      3.5          0      1\n",
       "2     78      1.0      0.0      4.0          0      1\n",
       "3     31      0.0      0.0      4.0          0      1\n",
       "4     34      0.0      0.0      4.0          0      1\n",
       "..   ...      ...      ...      ...        ...    ...\n",
       "150   46      1.0      1.0      3.3          1      0\n",
       "151   44      1.0      0.0      4.3          1      1\n",
       "152   61      1.0      1.0      4.1          1      1\n",
       "153   53      1.0      1.0      4.1          1      1\n",
       "154   43      1.0      1.0      3.1          1      0\n",
       "\n",
       "[155 rows x 6 columns]"
      ]
     },
     "execution_count": 160,
     "metadata": {},
     "output_type": "execute_result"
    }
   ],
   "source": [
    "target_corr = correlation_matrix['age']\n",
    "lower_bound = -0.15\n",
    "upper_bound = 0.15\n",
    "target_column='age'\n",
    "to_drop = [column for column in target_corr.index if column != target_column and lower_bound <= target_corr[column] <= upper_bound]\n",
    "df.drop(columns=to_drop,inplace=True)\n",
    "df"
   ]
  },
  {
   "cell_type": "code",
   "execution_count": 161,
   "id": "ce2231f8",
   "metadata": {},
   "outputs": [],
   "source": [
    "df = df.dropna()"
   ]
  },
  {
   "cell_type": "code",
   "execution_count": 162,
   "id": "4fd31048",
   "metadata": {},
   "outputs": [],
   "source": [
    "from sklearn.model_selection import train_test_split\n",
    "import matplotlib.pyplot as plt\n",
    "y=df['age']\n",
    "X = df[['fatigue', 'spiders', 'albumin', 'histology', 'class']]"
   ]
  },
  {
   "cell_type": "code",
   "execution_count": 163,
   "id": "1d063ec0",
   "metadata": {},
   "outputs": [],
   "source": [
    "shuffled_indices = np.arange(X.shape[0])\n",
    "np.random.shuffle(shuffled_indices)\n",
    "train_size = int(0.8 * X.shape[0])  \n",
    "test_size = X.shape[0] - train_size  \n",
    "train_indices = shuffled_indices[:train_size]\n",
    "test_indices = shuffled_indices[train_size:]\n",
    "X_train, X_test = X.iloc[train_indices], X.iloc[test_indices]\n",
    "y_train, y_test = y.iloc[train_indices], y.iloc[test_indices]"
   ]
  },
  {
   "cell_type": "markdown",
   "id": "46f2dfa5",
   "metadata": {},
   "source": [
    "# Q2"
   ]
  },
  {
   "cell_type": "code",
   "execution_count": 164,
   "id": "ccb90691",
   "metadata": {},
   "outputs": [
    {
     "name": "stdout",
     "output_type": "stream",
     "text": [
      "CSV file 'study_time_scores.csv' has been created.\n"
     ]
    }
   ],
   "source": [
    "data = {\n",
    "    'Study Time': [1, 2, 3, 4, 5, 6, 7, 8, 9, 10],\n",
    "    'Score': [2, 3, 5, 6, 7, 8, 7, 9, 9, 10]\n",
    "}\n",
    "data=pd.DataFrame(data)\n",
    "data.to_csv('study_time_scores.csv', index=False)\n",
    "\n",
    "print(\"CSV file 'study_time_scores.csv' has been created.\")"
   ]
  },
  {
   "cell_type": "code",
   "execution_count": 165,
   "id": "32dabe01",
   "metadata": {},
   "outputs": [
    {
     "name": "stdout",
     "output_type": "stream",
     "text": [
      "Index(['Study Time', 'Score'], dtype='object')\n",
      "Intercept (B0): 2.000000000000002\n",
      "Slope (B1): 0.8363636363636364\n",
      "RMSE: 0.6849021164304495\n"
     ]
    },
    {
     "data": {
      "image/png": "[encoded data removed]",
      "text/plain": [
       "<Figure size 640x480 with 1 Axes>"
      ]
     },
     "metadata": {},
     "output_type": "display_data"
    }
   ],
   "source": [
    "data = pd.read_csv('/home/ustudent/Desktop/220962049_aiml_a1/lab3/study_time_scores.csv')\n",
    "print(data.columns)\n",
    "x = data['Study Time'].values\n",
    "y = data['Score'].values\n",
    "X = np.vstack([np.ones_like(x), x]).T\n",
    "B = np.linalg.inv(X.T @ X) @ X.T @ y\n",
    "B0, B1 = B\n",
    "y_pred = X @ B\n",
    "def rmse(y_true, y_pred):\n",
    "    return np.sqrt(np.mean((y_true - y_pred) ** 2))\n",
    "rmsse = rmse(y , y_pred)\n",
    "print(f'Intercept (B0): {B0}')\n",
    "print(f'Slope (B1): {B1}')\n",
    "print(f'RMSE: {rmsse}')\n",
    "plt.scatter(x, y, color='red', label='Data Points')\n",
    "plt.plot(x, y_pred, color='blue', label='Regression Line')\n",
    "plt.xlabel('Study Time')\n",
    "plt.ylabel('Score')\n",
    "plt.legend()\n",
    "plt.show()"
   ]
  },
  {
   "cell_type": "code",
   "execution_count": 166,
   "id": "44d0365b",
   "metadata": {},
   "outputs": [
    {
     "name": "stdout",
     "output_type": "stream",
     "text": [
      "Intercept (B0): 1.96\n",
      "Slope (B1): 0.84\n",
      "RMSE: 0.69\n",
      "for 10 hours 10.382482504567774\n"
     ]
    }
   ],
   "source": [
    "X = np.vstack([np.ones_like(x), x]).T\n",
    "\n",
    "def gradient_descent(X, y, learning_rate=0.01, epochs=1000):\n",
    "    m = len(y)\n",
    "    theta = np.random.randn(2)\n",
    "    \n",
    "    for iteration in range(epochs):\n",
    "        predictions = X.dot(theta)\n",
    "        errors = predictions - y\n",
    "        gradients = (2/m) * X.T.dot(errors)\n",
    "        theta -= learning_rate * gradients\n",
    "        \n",
    "    return theta\n",
    "\n",
    "learning_rate = 0.01\n",
    "epochs = 1000\n",
    "theta = gradient_descent(X, y, learning_rate, epochs)\n",
    "\n",
    "B0, B1 = theta\n",
    "\n",
    "y_pred = X.dot(theta)\n",
    "\n",
    "rmse = np.sqrt(np.mean((y - y_pred) ** 2))\n",
    "\n",
    "print(f'Intercept (B0): {B0:.2f}')\n",
    "print(f'Slope (B1): {B1:.2f}')\n",
    "print(f'RMSE: {rmse:.2f}')\n",
    "study_time_new = 10\n",
    "X_new = np.array([1, study_time_new])\n",
    "predicted_score = X_new.dot(theta)\n",
    "print('for 10 hours',predicted_score)"
   ]
  },
  {
   "cell_type": "markdown",
   "id": "39098994",
   "metadata": {},
   "source": [
    "# additional"
   ]
  },
  {
   "cell_type": "code",
   "execution_count": 170,
   "id": "7ee86ab5",
   "metadata": {},
   "outputs": [
    {
     "name": "stdout",
     "output_type": "stream",
     "text": [
      "Intercept (B0): 8.38\n",
      "Slopes (B1): spiders      4.529825\n",
      "albumin      8.421590\n",
      "histology    5.705786\n",
      "class       -1.607572\n",
      "dtype: float64\n",
      "Training RMSE: 13.11\n",
      "Test RMSE: 13.07\n",
      "Training R^2: -0.16\n",
      "Test R^2: -0.48\n"
     ]
    },
    {
     "name": "stderr",
     "output_type": "stream",
     "text": [
      "/tmp/ipykernel_4919/916178959.py:31: FutureWarning: Series.__getitem__ treating keys as positions is deprecated. In a future version, integer keys will always be treated as labels (consistent with DataFrame behavior). To access a value by position, use `ser.iloc[pos]`\n",
      "  B0 = theta[0]\n"
     ]
    },
    {
     "data": {
      "image/png": "[encoded data removed]",
      "text/plain": [
       "<Figure size 640x480 with 1 Axes>"
      ]
     },
     "metadata": {},
     "output_type": "display_data"
    }
   ],
   "source": [
    "learning_rate = 0.01\n",
    "n_iterations = 1000\n",
    "def gradient_descent(X, y, learning_rate=0.01, n_iterations=1000):\n",
    "    m, n = X.shape\n",
    "    theta = np.random.randn(n)  # Initialize theta with the correct shape\n",
    "    \n",
    "    for iteration in range(n_iterations):\n",
    "        predictions = X.dot(theta)\n",
    "        errors = predictions - y\n",
    "        gradients = (2/m) * X.T.dot(errors)\n",
    "        theta -= learning_rate * gradients\n",
    "        \n",
    "    return theta\n",
    "\n",
    "# Custom RMSE Function\n",
    "def rmse(y_true, y_pred):\n",
    "    return np.sqrt(np.mean((y_true - y_pred) ** 2))\n",
    "\n",
    "def r_squared(y_true, y_pred):\n",
    "    y_mean = np.mean(y_true)\n",
    "    tss = np.sum((y_true - y_mean) ** 2)\n",
    "    rss = np.sum((y_true - y_pred) ** 2)\n",
    "    return 1 - (rss / tss)\n",
    "\n",
    "# Perform gradient descent\n",
    "learning_rate = 0.01\n",
    "n_iterations = 1000\n",
    "theta = gradient_descent(X_train, y_train, learning_rate, n_iterations)\n",
    "\n",
    "# Extract coefficients\n",
    "B0 = theta[0]\n",
    "B1 = theta[1:]\n",
    "\n",
    "# Make predictions\n",
    "y_train_pred = X_train.dot(theta)\n",
    "y_test_pred = X_test.dot(theta)\n",
    "\n",
    "# Calculate RMSE\n",
    "train_rmse = rmse(y_train, y_train_pred)\n",
    "test_rmse = rmse(y_test, y_test_pred)\n",
    "\n",
    "# Calculate R^2\n",
    "train_r2 = r_squared(y_train, y_train_pred)\n",
    "test_r2 = r_squared(y_test, y_test_pred)\n",
    "\n",
    "# Print results\n",
    "print(f'Intercept (B0): {B0:.2f}')\n",
    "print(f'Slopes (B1): {B1}')\n",
    "print(f'Training RMSE: {train_rmse:.2f}')\n",
    "print(f'Test RMSE: {test_rmse:.2f}')\n",
    "print(f'Training R^2: {train_r2:.2f}')\n",
    "print(f'Test R^2: {test_r2:.2f}')\n",
    "\n",
    "# Optional: Plot predictions vs true values (for training set)\n",
    "plt.scatter(y_train, y_train_pred, color='blue', label='Training Predictions')\n",
    "plt.xlabel('True Values')\n",
    "plt.ylabel('Predicted Values')\n",
    "plt.title('Training Set: True vs Predicted Values')\n",
    "plt.legend()\n",
    "plt.show()\n"
   ]
  },
  {
   "cell_type": "code",
   "execution_count": null,
   "id": "ec64a023",
   "metadata": {},
   "outputs": [],
   "source": []
  }
 ],
 "metadata": {
  "kernelspec": {
   "display_name": "Python 3 (ipykernel)",
   "language": "python",
   "name": "python3"
  },
  "language_info": {
   "codemirror_mode": {
    "name": "ipython",
    "version": 3
   },
   "file_extension": ".py",
   "mimetype": "text/x-python",
   "name": "python",
   "nbconvert_exporter": "python",
   "pygments_lexer": "ipython3",
   "version": "3.12.3"
  }
 },
 "nbformat": 4,
 "nbformat_minor": 5
}
