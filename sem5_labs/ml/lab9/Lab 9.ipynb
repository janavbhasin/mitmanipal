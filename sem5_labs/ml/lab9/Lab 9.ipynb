{
 "cells": [
  {
   "cell_type": "code",
   "execution_count": 1,
   "id": "f8112feb",
   "metadata": {},
   "outputs": [],
   "source": [
    "import numpy as np\n",
    "import pandas as pd"
   ]
  },
  {
   "cell_type": "markdown",
   "id": "0918c465",
   "metadata": {},
   "source": [
    "# 1"
   ]
  },
  {
   "cell_type": "code",
   "execution_count": 2,
   "id": "7b32320d",
   "metadata": {},
   "outputs": [
    {
     "name": "stdout",
     "output_type": "stream",
     "text": [
      "    Day   Outlook  Temp  Humidity    Wind Decision\n",
      "0     1     Sunny    85        85    Weak       No\n",
      "1     2     Sunny    80        90  Strong       No\n",
      "2     3  Overcast    83        78    Weak      Yes\n",
      "3     4      Rain    70        96    Weak      Yes\n",
      "4     5      Rain    68        80    Weak      Yes\n",
      "5     6      Rain    65        70  Strong       No\n",
      "6     7  Overcast    64        65  Strong      Yes\n",
      "7     8     Sunny    72        95    Weak       No\n",
      "8     9     Sunny    69        70    Weak      Yes\n",
      "9    10      Rain    75        80    Weak      Yes\n",
      "10   11     Sunny    75        70  Strong      Yes\n",
      "11   12  Overcast    72        90  Strong      Yes\n",
      "12   13  Overcast    81        75    Weak      Yes\n",
      "13   14      Rain    71        80  Strong       No\n"
     ]
    }
   ],
   "source": [
    "df = {'Day':[1,2,3,4,5,6,7,8,9,10,11,12,13,14],\n",
    "        'Outlook':['Sunny','Sunny','Overcast','Rain','Rain','Rain','Overcast','Sunny','Sunny','Rain','Sunny','Overcast','Overcast','Rain'],\n",
    "       'Temp':[85,80,83,70,68,65,64,72,69,75,75,72,81,71],\n",
    "        'Humidity':[85,90,78,96,80,70,65,95,70,80,70,90,75,80],\n",
    "       'Wind':['Weak','Strong','Weak','Weak','Weak','Strong','Strong','Weak','Weak','Weak','Strong','Strong','Weak','Strong'],\n",
    "       'Decision':['No','No','Yes','Yes','Yes','No','Yes','No','Yes','Yes','Yes','Yes','Yes','No']}\n",
    "df = pd.DataFrame(df)\n",
    "print(df)"
   ]
  },
  {
   "cell_type": "code",
   "execution_count": 3,
   "id": "6601796c",
   "metadata": {},
   "outputs": [],
   "source": [
    "def entropy(y):\n",
    "    label_counts = y.value_counts()\n",
    "    probabilities = label_counts / len(y)\n",
    "    return -np.sum(probabilities * np.log2(probabilities + 1e-9))"
   ]
  },
  {
   "cell_type": "code",
   "execution_count": 4,
   "id": "71eeb1b4",
   "metadata": {},
   "outputs": [],
   "source": [
    "def information_gain(X, y, feature):\n",
    "    total_entropy = entropy(y)\n",
    "    \n",
    "    feature_values = X[feature].unique()\n",
    "    \n",
    "    weighted_entropy = 0\n",
    "    for value in feature_values:\n",
    "        subset_y = y[X[feature] == value]\n",
    "        weighted_entropy += (len(subset_y) / len(y)) * entropy(subset_y)\n",
    "    \n",
    "    return total_entropy - weighted_entropy"
   ]
  },
  {
   "cell_type": "code",
   "execution_count": 5,
   "id": "df885167",
   "metadata": {},
   "outputs": [],
   "source": [
    "def best_feature_to_split(X, y):\n",
    "    \"\"\"Find the best feature to split on based on information gain.\"\"\"\n",
    "    gains = {feature: information_gain(X, y, feature) for feature in X.columns}\n",
    "    return max(gains, key=gains.get)"
   ]
  },
  {
   "cell_type": "code",
   "execution_count": 6,
   "id": "29c73995",
   "metadata": {},
   "outputs": [],
   "source": [
    "def build_tree(X, y, features):\n",
    "    if len(y.unique()) == 1:\n",
    "        return y.iloc[0]\n",
    "    \n",
    "    if not features:\n",
    "        return y.mode()[0]\n",
    "    \n",
    "    best_feature = best_feature_to_split(X, y)\n",
    "    \n",
    "    tree = {best_feature: {}}\n",
    "    \n",
    "    for value in X[best_feature].unique():\n",
    "        subset_X = X[X[best_feature] == value]\n",
    "        subset_y = y[X[best_feature] == value]\n",
    "        \n",
    "        subtree = build_tree(subset_X, subset_y, features - {best_feature})\n",
    "        tree[best_feature][value] = subtree\n",
    "    \n",
    "    return tree"
   ]
  },
  {
   "cell_type": "code",
   "execution_count": 7,
   "id": "6c2f1f30",
   "metadata": {},
   "outputs": [],
   "source": [
    "def classify(tree, sample):\n",
    "    if not isinstance(tree, dict):\n",
    "        return tree  \n",
    "    feature = next(iter(tree))  \n",
    "    feature_value = sample[feature]\n",
    "    \n",
    "    if feature_value in tree[feature]:\n",
    "        return classify(tree[feature][feature_value], sample)\n",
    "    else:\n",
    "        return None "
   ]
  },
  {
   "cell_type": "code",
   "execution_count": 8,
   "id": "d93efb42",
   "metadata": {},
   "outputs": [
    {
     "name": "stdout",
     "output_type": "stream",
     "text": [
      "Decision Tree: {'Temp': {85: 'No', 80: 'No', 83: 'Yes', 70: 'Yes', 68: 'Yes', 65: 'No', 64: 'Yes', 72: {'Humidity': {95: 'No', 90: 'Yes'}}, 69: 'Yes', 75: 'Yes', 81: 'Yes', 71: 'No'}}\n",
      "Classification for new sample: Yes\n"
     ]
    }
   ],
   "source": [
    "features = list(df.columns.difference(['Day', 'Decision']))\n",
    "\n",
    "decision_tree = build_tree(df[features], df['Decision'], set(features))\n",
    "\n",
    "new_sample = {'Outlook': 'Sunny', 'Temp': 75, 'Humidity': 70, 'Wind': 'Weak'}\n",
    "classification = classify(decision_tree, new_sample)\n",
    "\n",
    "print(\"Decision Tree:\", decision_tree)\n",
    "print(\"Classification for new sample:\", classification)\n"
   ]
  },
  {
   "cell_type": "markdown",
   "id": "69a187b9",
   "metadata": {},
   "source": [
    "# 2"
   ]
  },
  {
   "cell_type": "code",
   "execution_count": 9,
   "id": "01c584a3",
   "metadata": {},
   "outputs": [],
   "source": [
    "def gini_impurity(y):\n",
    "    \"\"\"Calculate the Gini impurity of the labels.\"\"\"\n",
    "    label_counts = y.value_counts()\n",
    "    probabilities = label_counts / len(y)\n",
    "    return 1 - np.sum(probabilities ** 2)"
   ]
  },
  {
   "cell_type": "code",
   "execution_count": 10,
   "id": "5ce68036",
   "metadata": {},
   "outputs": [],
   "source": [
    "def information_gain_gini(X, y, feature):\n",
    "    \"\"\"Calculate the Gini information gain of a feature.\"\"\"\n",
    "    total_gini = gini_impurity(y)\n",
    "    feature_values = X[feature].unique()\n",
    "    \n",
    "    weighted_gini = 0\n",
    "    for value in feature_values:\n",
    "        subset_y = y[X[feature] == value]\n",
    "        weighted_gini += (len(subset_y) / len(y)) * gini_impurity(subset_y)\n",
    "    \n",
    "    return total_gini - weighted_gini"
   ]
  },
  {
   "cell_type": "code",
   "execution_count": 11,
   "id": "77fd785c",
   "metadata": {},
   "outputs": [],
   "source": [
    "def best_feature_to_split(X, y):\n",
    "    \"\"\"Find the best feature to split on based on Gini information gain.\"\"\"\n",
    "    gains = {feature: information_gain_gini(X, y, feature) for feature in X.columns}\n",
    "    return max(gains, key=gains.get)"
   ]
  },
  {
   "cell_type": "code",
   "execution_count": 12,
   "id": "8d0374cc",
   "metadata": {},
   "outputs": [],
   "source": [
    "def build_tree(X, y, features):\n",
    "    if len(y.unique()) == 1:\n",
    "        return y.iloc[0]\n",
    "    \n",
    "    if not features:\n",
    "        return y.mode()[0]\n",
    "    \n",
    "    best_feature = best_feature_to_split(X, y)\n",
    "    \n",
    "    tree = {best_feature: {}}\n",
    "    \n",
    "    for value in X[best_feature].unique():\n",
    "        subset_X = X[X[best_feature] == value]\n",
    "        subset_y = y[X[best_feature] == value]\n",
    "        \n",
    "        subtree = build_tree(subset_X, subset_y, features.difference([best_feature]))\n",
    "        tree[best_feature][value] = subtree\n",
    "    \n",
    "    return tree"
   ]
  },
  {
   "cell_type": "code",
   "execution_count": 13,
   "id": "89b665e5",
   "metadata": {},
   "outputs": [],
   "source": [
    "def classify(tree, sample):\n",
    "    if not isinstance(tree, dict):\n",
    "        return tree  \n",
    "    \n",
    "    feature = next(iter(tree))  \n",
    "    feature_value = sample[feature]\n",
    "    \n",
    "    if feature_value in tree[feature]:\n",
    "        return classify(tree[feature][feature_value], sample)\n",
    "    else:\n",
    "        return None"
   ]
  },
  {
   "cell_type": "code",
   "execution_count": 14,
   "id": "c87ff4c9",
   "metadata": {},
   "outputs": [
    {
     "name": "stdout",
     "output_type": "stream",
     "text": [
      "Decision Tree: {'Temp': {85: 'No', 80: 'No', 83: 'Yes', 70: 'Yes', 68: 'Yes', 65: 'No', 64: 'Yes', 72: {'Humidity': {95: 'No', 90: 'Yes'}}, 69: 'Yes', 75: 'Yes', 81: 'Yes', 71: 'No'}}\n",
      "Classification for new sample: Yes\n"
     ]
    }
   ],
   "source": [
    "features = list(df.columns.difference(['Day', 'Decision']))\n",
    "\n",
    "decision_tree = build_tree(df[features], df['Decision'], set(features))\n",
    "\n",
    "new_sample = {'Outlook': 'Sunny', 'Temp': 75, 'Humidity': 70, 'Wind': 'Weak'}\n",
    "classification = classify(decision_tree, new_sample)\n",
    "\n",
    "print(\"Decision Tree:\", decision_tree)\n",
    "print(\"Classification for new sample:\", classification)"
   ]
  },
  {
   "cell_type": "markdown",
   "id": "e1d085c0",
   "metadata": {},
   "source": [
    "# 3"
   ]
  },
  {
   "cell_type": "code",
   "execution_count": 15,
   "id": "55f8eb1c",
   "metadata": {},
   "outputs": [],
   "source": [
    "data = {'Income':['Low','Low','Medium','Medium','High','High'],\n",
    "       'Credit':['Good','Bad','Good','Bad','Good','Bad'],\n",
    "       'Loan Approved':['Yes','No','Yes','Yes','Yes','No']}\n",
    "df = pd.DataFrame(data)"
   ]
  },
  {
   "cell_type": "code",
   "execution_count": 16,
   "id": "605ef0f0",
   "metadata": {},
   "outputs": [],
   "source": [
    "from sklearn.tree import DecisionTreeClassifier\n",
    "from sklearn.model_selection import train_test_split"
   ]
  },
  {
   "cell_type": "code",
   "execution_count": 17,
   "id": "363abbeb",
   "metadata": {},
   "outputs": [
    {
     "name": "stdout",
     "output_type": "stream",
     "text": [
      "Predictions: [1 1]\n",
      "Accuracy: 0.5\n"
     ]
    }
   ],
   "source": [
    "df['Income'] = df['Income'].map({'Low': 0, 'Medium': 1, 'High': 2})\n",
    "df['Credit'] = df['Credit'].map({'Good': 0, 'Bad': 1})\n",
    "df['Loan Approved'] = df['Loan Approved'].map({'Yes': 1, 'No': 0})\n",
    "\n",
    "X = df[['Income', 'Credit']]\n",
    "y = df['Loan Approved']\n",
    "\n",
    "X_train, X_test, y_train, y_test = train_test_split(X, y, test_size=0.2, random_state=42)\n",
    "\n",
    "cart_classifier = DecisionTreeClassifier(criterion='gini')  \n",
    "\n",
    "cart_classifier.fit(X_train, y_train)\n",
    "\n",
    "predictions = cart_classifier.predict(X_test)\n",
    "\n",
    "print(\"Predictions:\", predictions)\n",
    "\n",
    "accuracy = cart_classifier.score(X_test, y_test)\n",
    "print(\"Accuracy:\", accuracy)\n"
   ]
  }
 ],
 "metadata": {
  "kernelspec": {
   "display_name": "Python 3 (ipykernel)",
   "language": "python",
   "name": "python3"
  },
  "language_info": {
   "codemirror_mode": {
    "name": "ipython",
    "version": 3
   },
   "file_extension": ".py",
   "mimetype": "text/x-python",
   "name": "python",
   "nbconvert_exporter": "python",
   "pygments_lexer": "ipython3",
   "version": "3.12.3"
  }
 },
 "nbformat": 4,
 "nbformat_minor": 5
}
